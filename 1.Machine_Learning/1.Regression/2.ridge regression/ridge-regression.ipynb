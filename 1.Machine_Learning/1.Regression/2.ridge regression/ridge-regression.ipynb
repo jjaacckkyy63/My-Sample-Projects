{
 "cells": [
  {
   "cell_type": "markdown",
   "metadata": {},
   "source": [
    "# Gradient-based solver for ridge regression"
   ]
  },
  {
   "cell_type": "markdown",
   "metadata": {},
   "source": [
    "In this notebook, you will create a **gradient descent** solver for **ridge regression** and then compare it to the built-in solver in `sklearn.linear_model`."
   ]
  },
  {
   "cell_type": "markdown",
   "metadata": {},
   "source": [
    "## 1. Set up notebook and create data set"
   ]
  },
  {
   "cell_type": "markdown",
   "metadata": {},
   "source": [
    "After loading in some standard packages, we create a synthetic data set consisting of data points `(x,y)`:\n",
    "* `x`: 100-dimensional vector whose coordinates are independent draws from a standard normal (Gaussian) distribution\n",
    "* `y`: response value given by `y = wx + e` where `w` is a target regression function and `e` is Gaussian noise\n",
    "\n",
    "We will fix `w` to be the 100-dimensional vector whose first ten coordinates are exactly 1.0, and whose remaining coordinates are zero. Thus only the first ten coordinates of `x` are relevant to the regression task."
   ]
  },
  {
   "cell_type": "code",
   "execution_count": 1,
   "metadata": {},
   "outputs": [],
   "source": [
    "%matplotlib inline\n",
    "import numpy as np\n",
    "import matplotlib\n",
    "import matplotlib.pyplot as plt\n",
    "from sklearn import linear_model\n",
    "from sklearn.metrics import mean_squared_error\n",
    "matplotlib.rc('xtick', labelsize=14) \n",
    "matplotlib.rc('ytick', labelsize=14)"
   ]
  },
  {
   "cell_type": "markdown",
   "metadata": {},
   "source": [
    "The following procedure, **generate_data**, creates a data set of a specified number of points. It is invoked as follows:\n",
    "* `trainx, trainy = generate_data(n)`\n",
    "\n",
    "Here:\n",
    "* `n` is the target number of points\n",
    "* `trainx`: `nx100` array of data points\n",
    "* `trainy`: array of `n` response values"
   ]
  },
  {
   "cell_type": "code",
   "execution_count": 2,
   "metadata": {},
   "outputs": [],
   "source": [
    "def generate_data(n):\n",
    "    d = 100\n",
    "    w = np.zeros(d)\n",
    "    for i in range(0,10):\n",
    "        w[i] = 1.0\n",
    "    #\n",
    "    trainx = np.random.normal(size=(n,d))\n",
    "    e = np.random.normal(size=(n))\n",
    "    trainy = np.dot(trainx, w) + e\n",
    "    #\n",
    "    return trainx, trainy"
   ]
  },
  {
   "cell_type": "markdown",
   "metadata": {},
   "source": [
    "## 2. Gradient descent solver for ridge regression"
   ]
  },
  {
   "cell_type": "markdown",
   "metadata": {},
   "source": [
    "<font color=\"magenta\">**For you to do:**</font> Define a procedure, **ridge_regression_GD**, that uses gradient descent to solve the ridge regression problem. It is invoked as follows:\n",
    "\n",
    "* `w,b,losses = ridge_regression_GD(x,y,C)`\n",
    "\n",
    "Here, the input consists of:\n",
    "* training data `x,y`, where `x` and `y` are numpy arrays of dimension `n`-by-`d` and `n`, respectively (if there are `n` training points)\n",
    "* regularization constant `C`\n",
    "\n",
    "The function should find the `d`-dimensional vector `w` and offset `b` that minimize the ridge regression loss function (with regularization constant `C`), and return:\n",
    "* `w` and `b`\n",
    "* `losses`, an array containing the ridge regression loss at each iteration\n",
    "\n",
    "<font color=\"magenta\">Advice:</font> First figure out the derivative, which has a relatively simple form. Next, when implementing gradient descent, think carefully about two issues.\n",
    "\n",
    "1. What is the step size?\n",
    "2. When has the procedure converged?\n",
    "\n",
    "Take the time to experiment with different ways of handling these."
   ]
  },
  {
   "cell_type": "code",
   "execution_count": 228,
   "metadata": {},
   "outputs": [],
   "source": [
    "def loss_function(x,y,w,b):\n",
    "    wx = np.dot(x,w)+b\n",
    "    loss = np.sum((y-wx)**2)\n",
    "    return loss"
   ]
  },
  {
   "cell_type": "code",
   "execution_count": 229,
   "metadata": {},
   "outputs": [],
   "source": [
    "def linear_regression(x,y,alpha,iterations):\n",
    "    m =len(y)\n",
    "    w = np.zeros(x.shape[1])\n",
    "    b = np.zeros(m)\n",
    "    losses = [0]*iterations\n",
    "    \n",
    "    for i in range(iterations):\n",
    "        h = x.dot(w)+b\n",
    "        gradientw = -2*(x.T.dot(y-h))/m\n",
    "        gradientb = -2*(y-h)/m\n",
    "        w = w-alpha*gradientw\n",
    "        b = b-alpha*gradientb\n",
    "        loss = loss_function(x,y,w,b)\n",
    "        losses[i] = loss\n",
    "    return w, b, losses"
   ]
  },
  {
   "cell_type": "code",
   "execution_count": 230,
   "metadata": {},
   "outputs": [
    {
     "name": "stdout",
     "output_type": "stream",
     "text": [
      "[ 9.17236744e-01  8.69731612e-01  8.27026379e-01  1.01447355e+00\n",
      "  9.21826780e-01  9.88690395e-01  9.66475311e-01  9.47897962e-01\n",
      "  9.12645278e-01  1.20033009e+00 -1.16427990e-01  7.40899984e-02\n",
      "  1.10165259e-01 -3.59571323e-02  1.83002048e-01 -5.78054463e-02\n",
      " -1.37519232e-01 -2.33888290e-01  5.96586541e-02  3.37315668e-02\n",
      " -1.30688230e-01 -2.86339190e-02 -9.24371449e-02 -1.14120091e-01\n",
      "  1.80467807e-01  1.70083418e-03 -4.80732497e-03  1.40657174e-01\n",
      "  1.22555420e-01  1.09456214e-01 -1.03842223e-01  2.29613282e-02\n",
      "  1.49153846e-01  9.71488635e-02 -6.61168148e-02 -2.38000212e-02\n",
      "  5.72736139e-02  2.68696778e-03 -4.28546079e-02 -2.43715825e-01\n",
      " -6.93351512e-02  7.68357869e-02 -1.85303703e-02 -8.74305738e-02\n",
      " -2.75170480e-02  5.63488201e-02 -3.13755236e-02  9.69688600e-02\n",
      " -1.72228399e-01  5.95225562e-02 -6.67816658e-02  3.89982850e-02\n",
      " -4.54639028e-03 -2.13191923e-01  9.22716696e-02 -8.14744980e-03\n",
      "  7.04995042e-02 -3.63548925e-02 -1.00578938e-01  9.67396442e-02\n",
      " -1.52840113e-02 -1.32436853e-02 -5.90122198e-02  2.36642659e-02\n",
      "  2.26155589e-02 -1.89509202e-01 -3.73876425e-02 -1.98410621e-02\n",
      "  1.43121096e-01 -5.55976652e-03  8.08462415e-02  2.21711229e-02\n",
      " -6.42204227e-02  2.17228192e-01  1.81518210e-02 -9.24302281e-02\n",
      " -1.53125609e-02  8.51562743e-02  4.80857560e-02  1.21896969e-01\n",
      "  1.70265616e-01  7.09176201e-04 -1.74715225e-02  4.14343477e-05\n",
      " -8.42491883e-02 -3.98161987e-02  1.89884161e-01  1.19019497e-01\n",
      " -8.75931977e-02 -1.31667645e-01  5.20654597e-02 -1.66284075e-01\n",
      "  2.05534401e-02  1.24916630e-01  2.09490803e-03  1.40292531e-01\n",
      "  1.68884856e-01 -7.84288708e-02 -5.68397563e-02  1.55627773e-01]\n",
      "1.7461940529195375e-07\n"
     ]
    }
   ],
   "source": [
    "n = 200\n",
    "x,y = generate_data(n)\n",
    "alpha = 0.01\n",
    "iterations = 100000\n",
    "w, b, losses = linear_regression(x,y,alpha,iterations)\n",
    "print w\n",
    "print losses[-1]"
   ]
  },
  {
   "cell_type": "code",
   "execution_count": 215,
   "metadata": {},
   "outputs": [],
   "source": [
    "def ridge_regression_GD(x,y,C):\n",
    "    ### Put your code here\n",
    "    m = len(y)\n",
    "    w = np.zeros(x.shape[1])\n",
    "    b = np.zeros(m)\n",
    "    iterations = 20000\n",
    "    alpha = 0.001\n",
    "    losses = [0]*iterations\n",
    "    \n",
    "    for i in range(iterations):\n",
    "        h = np.dot(x,w)+b\n",
    "        gradientw = (2*(x.T.dot(y-h))+2*C*w)/m\n",
    "        gradientb = 2*(y-h)/m\n",
    "        w = w+alpha*gradientw\n",
    "        b = b+alpha*gradientb\n",
    "        loss = loss_function(x,y,w,b)\n",
    "        losses[i] = loss\n",
    "    \n",
    "    return w,b,losses"
   ]
  },
  {
   "cell_type": "markdown",
   "metadata": {},
   "source": [
    "Let's try it out and print a graph of the loss values during the optimization process."
   ]
  },
  {
   "cell_type": "code",
   "execution_count": 216,
   "metadata": {},
   "outputs": [
    {
     "data": {
      "image/png": "[encoded data removed]",
      "text/plain": [
       "<matplotlib.figure.Figure at 0x109e302d0>"
      ]
     },
     "metadata": {},
     "output_type": "display_data"
    },
    {
     "name": "stdout",
     "output_type": "stream",
     "text": [
      "80.33560275357362\n"
     ]
    }
   ],
   "source": [
    "# Generate 200 data points\n",
    "n = 200\n",
    "x,y = generate_data(n)\n",
    "# Set regularization constant\n",
    "C = 10.0\n",
    "# Run gradient descent solver\n",
    "w, b, losses = ridge_regression_GD(x,y,C)\n",
    "# Plot the losses\n",
    "plt.plot(losses,'r')\n",
    "plt.xlabel('Iterations', fontsize=14)\n",
    "plt.ylabel('Loss', fontsize=14)\n",
    "plt.show()\n",
    "print losses[-1]"
   ]
  },
  {
   "cell_type": "markdown",
   "metadata": {},
   "source": [
    "<font color=\"magenta\">**Something to think about**</font>\n",
    "\n",
    "1. In setting the step size, does it work to use a fixed schedule 1/t? Why or why not?\n",
    "\n",
    "2. Can you set up the gradient descent procedure in such a way that on each iteration, the loss monotonically decreases?\n"
   ]
  },
  {
   "cell_type": "markdown",
   "metadata": {},
   "source": [
    "## 3. Evaluate the gradient descent solver"
   ]
  },
  {
   "cell_type": "markdown",
   "metadata": {},
   "source": [
    "Now let's compare the regressor found by your gradient descent procedure to that returned by the built-in ridge regression solver in `sklearn`. We will compare them in two ways:\n",
    "* Their MSE values\n",
    "* The distance between the corresponding `w`-vectors\n",
    "\n",
    "The latter should be smaller than 10^{-4}.\n"
   ]
  },
  {
   "cell_type": "code",
   "execution_count": 217,
   "metadata": {},
   "outputs": [],
   "source": [
    "def compute_mse(w,b,x,y):\n",
    "    residuals = y - (np.dot(x, w) + b)\n",
    "    return np.dot(residuals, residuals)/n"
   ]
  },
  {
   "cell_type": "code",
   "execution_count": 218,
   "metadata": {},
   "outputs": [
    {
     "name": "stdout",
     "output_type": "stream",
     "text": [
      "MSE of gradient descent solver:  0.4865933656986064\n",
      "MSE of built-in solver:  0.5197899216144432\n",
      "Distance between w-coefficients:  1.780526635006579\n"
     ]
    }
   ],
   "source": [
    "# Generate 200 data points\n",
    "n = 200\n",
    "x,y = generate_data(n)\n",
    "# Set regularization constant\n",
    "C = 10.0\n",
    "# Run gradient descent solver and compute its MSE\n",
    "w, b, losses = ridge_regression_GD(x,y,C)\n",
    "# Use built-in routine for ridge regression and compute MSE\n",
    "regr = linear_model.Ridge(alpha=C)\n",
    "regr.fit(x, y)\n",
    "# Print MSE values and L2 distance between the regression functions\n",
    "print \"MSE of gradient descent solver: \", compute_mse(w,b,x,y)\n",
    "print \"MSE of built-in solver: \", mean_squared_error(regr.predict(x), y)\n",
    "print \"Distance between w-coefficients: \", np.linalg.norm(w-regr.coef_)"
   ]
  },
  {
   "cell_type": "markdown",
   "metadata": {},
   "source": [
    "<font color=\"magenta\">**Something to think about**</font>\n",
    "\n",
    "The data was originally generated using a linear function in which only ten of the 100 features (the first ten) were relevant. Does the vector `w` returned by ridge regression correctly identify the relevant features?"
   ]
  },
  {
   "cell_type": "code",
   "execution_count": null,
   "metadata": {
    "collapsed": true
   },
   "outputs": [],
   "source": []
  }
 ],
 "metadata": {
  "kernelspec": {
   "display_name": "Python 2",
   "language": "python",
   "name": "python2"
  },
  "language_info": {
   "codemirror_mode": {
    "name": "ipython",
    "version": 2
   },
   "file_extension": ".py",
   "mimetype": "text/x-python",
   "name": "python",
   "nbconvert_exporter": "python",
   "pygments_lexer": "ipython2",
   "version": "2.7.14"
  },
  "toc": {
   "colors": {
    "hover_highlight": "#DAA520",
    "navigate_num": "#000000",
    "navigate_text": "#333333",
    "running_highlight": "#FF0000",
    "selected_highlight": "#FFD700",
    "sidebar_border": "#EEEEEE",
    "wrapper_background": "#FFFFFF"
   },
   "moveMenuLeft": true,
   "nav_menu": {
    "height": "12px",
    "width": "252px"
   },
   "navigate_menu": true,
   "number_sections": false,
   "sideBar": true,
   "threshold": 4,
   "toc_cell": false,
   "toc_section_display": "block",
   "toc_window_display": false,
   "widenNotebook": false
  }
 },
 "nbformat": 4,
 "nbformat_minor": 2
}

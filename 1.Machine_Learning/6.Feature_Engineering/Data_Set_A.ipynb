{
 "cells": [
  {
   "cell_type": "code",
   "execution_count": 1,
   "metadata": {},
   "outputs": [],
   "source": [
    "import pandas as pd\n",
    "import numpy as np\n",
    "from sklearn.preprocessing import StandardScaler\n",
    "from sklearn.metrics import accuracy_score\n",
    "from sklearn.ensemble import RandomForestClassifier\n",
    "from sklearn.model_selection import KFold\n",
    "from sklearn.linear_model import LogisticRegression"
   ]
  },
  {
   "cell_type": "code",
   "execution_count": 2,
   "metadata": {},
   "outputs": [],
   "source": [
    "df = pd.read_excel('Data_Set_A.xlsm')"
   ]
  },
  {
   "cell_type": "code",
   "execution_count": 3,
   "metadata": {},
   "outputs": [
    {
     "data": {
      "text/plain": [
       "(80046, 13)"
      ]
     },
     "execution_count": 3,
     "metadata": {},
     "output_type": "execute_result"
    }
   ],
   "source": [
    "df.shape"
   ]
  },
  {
   "cell_type": "markdown",
   "metadata": {},
   "source": [
    "# Preprocessing"
   ]
  },
  {
   "cell_type": "markdown",
   "metadata": {},
   "source": [
    "## 1. Standard Scaler"
   ]
  },
  {
   "cell_type": "code",
   "execution_count": 4,
   "metadata": {},
   "outputs": [],
   "source": [
    "def standardscale(feats, df):\n",
    "    for feat in feats:\n",
    "        scaler = StandardScaler()\n",
    "        scaler.fit(df[feat].values.reshape(-1,1))\n",
    "        df[feat+\"-pre\"] = scaler.transform(df[feat].values.reshape(-1,1))\n",
    "    return df"
   ]
  },
  {
   "cell_type": "code",
   "execution_count": 5,
   "metadata": {},
   "outputs": [
    {
     "name": "stderr",
     "output_type": "stream",
     "text": [
      "/anaconda3/lib/python3.6/site-packages/sklearn/utils/validation.py:475: DataConversionWarning: Data with input dtype int64 was converted to float64 by StandardScaler.\n",
      "  warnings.warn(msg, DataConversionWarning)\n"
     ]
    }
   ],
   "source": [
    "feats = [\"sig3\", \"sig4\", \"sig5\", \"sig6\"]\n",
    "df = standardscale(feats, df)"
   ]
  },
  {
   "cell_type": "code",
   "execution_count": 6,
   "metadata": {},
   "outputs": [
    {
     "data": {
      "text/html": [
       "<div>\n",
       "<style scoped>\n",
       "    .dataframe tbody tr th:only-of-type {\n",
       "        vertical-align: middle;\n",
       "    }\n",
       "\n",
       "    .dataframe tbody tr th {\n",
       "        vertical-align: top;\n",
       "    }\n",
       "\n",
       "    .dataframe thead th {\n",
       "        text-align: right;\n",
       "    }\n",
       "</style>\n",
       "<table border=\"1\" class=\"dataframe\">\n",
       "  <thead>\n",
       "    <tr style=\"text-align: right;\">\n",
       "      <th></th>\n",
       "      <th>query_id</th>\n",
       "      <th>url_id</th>\n",
       "      <th>query_length</th>\n",
       "      <th>is_homepage</th>\n",
       "      <th>sig1</th>\n",
       "      <th>sig2</th>\n",
       "      <th>sig3</th>\n",
       "      <th>sig4</th>\n",
       "      <th>sig5</th>\n",
       "      <th>sig6</th>\n",
       "      <th>sig7</th>\n",
       "      <th>sig8</th>\n",
       "      <th>relevance</th>\n",
       "      <th>sig3-pre</th>\n",
       "      <th>sig4-pre</th>\n",
       "      <th>sig5-pre</th>\n",
       "      <th>sig6-pre</th>\n",
       "    </tr>\n",
       "  </thead>\n",
       "  <tbody>\n",
       "    <tr>\n",
       "      <th>0</th>\n",
       "      <td>4631</td>\n",
       "      <td>28624</td>\n",
       "      <td>2</td>\n",
       "      <td>1</td>\n",
       "      <td>0.09</td>\n",
       "      <td>0.15</td>\n",
       "      <td>1288</td>\n",
       "      <td>352</td>\n",
       "      <td>376</td>\n",
       "      <td>13</td>\n",
       "      <td>0.46</td>\n",
       "      <td>0.35</td>\n",
       "      <td>0</td>\n",
       "      <td>-0.151670</td>\n",
       "      <td>-0.081007</td>\n",
       "      <td>-0.092444</td>\n",
       "      <td>-0.012204</td>\n",
       "    </tr>\n",
       "    <tr>\n",
       "      <th>1</th>\n",
       "      <td>4631</td>\n",
       "      <td>28625</td>\n",
       "      <td>2</td>\n",
       "      <td>1</td>\n",
       "      <td>0.20</td>\n",
       "      <td>0.35</td>\n",
       "      <td>4662</td>\n",
       "      <td>337</td>\n",
       "      <td>666</td>\n",
       "      <td>28</td>\n",
       "      <td>0.43</td>\n",
       "      <td>0.27</td>\n",
       "      <td>1</td>\n",
       "      <td>-0.008290</td>\n",
       "      <td>-0.084120</td>\n",
       "      <td>0.061164</td>\n",
       "      <td>0.154337</td>\n",
       "    </tr>\n",
       "    <tr>\n",
       "      <th>2</th>\n",
       "      <td>4631</td>\n",
       "      <td>28626</td>\n",
       "      <td>2</td>\n",
       "      <td>1</td>\n",
       "      <td>0.36</td>\n",
       "      <td>0.49</td>\n",
       "      <td>1121</td>\n",
       "      <td>385</td>\n",
       "      <td>270</td>\n",
       "      <td>15</td>\n",
       "      <td>0.34</td>\n",
       "      <td>0.20</td>\n",
       "      <td>1</td>\n",
       "      <td>-0.158767</td>\n",
       "      <td>-0.074158</td>\n",
       "      <td>-0.148591</td>\n",
       "      <td>0.010002</td>\n",
       "    </tr>\n",
       "    <tr>\n",
       "      <th>3</th>\n",
       "      <td>4631</td>\n",
       "      <td>28627</td>\n",
       "      <td>2</td>\n",
       "      <td>1</td>\n",
       "      <td>0.21</td>\n",
       "      <td>0.45</td>\n",
       "      <td>2925</td>\n",
       "      <td>478</td>\n",
       "      <td>640</td>\n",
       "      <td>14</td>\n",
       "      <td>0.44</td>\n",
       "      <td>0.33</td>\n",
       "      <td>1</td>\n",
       "      <td>-0.082105</td>\n",
       "      <td>-0.054856</td>\n",
       "      <td>0.047392</td>\n",
       "      <td>-0.001101</td>\n",
       "    </tr>\n",
       "    <tr>\n",
       "      <th>4</th>\n",
       "      <td>4631</td>\n",
       "      <td>28628</td>\n",
       "      <td>2</td>\n",
       "      <td>1</td>\n",
       "      <td>0.25</td>\n",
       "      <td>0.42</td>\n",
       "      <td>1328</td>\n",
       "      <td>429</td>\n",
       "      <td>412</td>\n",
       "      <td>27</td>\n",
       "      <td>0.40</td>\n",
       "      <td>0.57</td>\n",
       "      <td>1</td>\n",
       "      <td>-0.149970</td>\n",
       "      <td>-0.065026</td>\n",
       "      <td>-0.073376</td>\n",
       "      <td>0.143235</td>\n",
       "    </tr>\n",
       "    <tr>\n",
       "      <th>5</th>\n",
       "      <td>4631</td>\n",
       "      <td>28629</td>\n",
       "      <td>2</td>\n",
       "      <td>1</td>\n",
       "      <td>0.23</td>\n",
       "      <td>0.44</td>\n",
       "      <td>2147</td>\n",
       "      <td>331</td>\n",
       "      <td>514</td>\n",
       "      <td>39</td>\n",
       "      <td>0.47</td>\n",
       "      <td>0.23</td>\n",
       "      <td>0</td>\n",
       "      <td>-0.115167</td>\n",
       "      <td>-0.085365</td>\n",
       "      <td>-0.019348</td>\n",
       "      <td>0.276468</td>\n",
       "    </tr>\n",
       "    <tr>\n",
       "      <th>6</th>\n",
       "      <td>4631</td>\n",
       "      <td>28630</td>\n",
       "      <td>2</td>\n",
       "      <td>1</td>\n",
       "      <td>0.24</td>\n",
       "      <td>0.48</td>\n",
       "      <td>1757</td>\n",
       "      <td>9</td>\n",
       "      <td>478</td>\n",
       "      <td>26</td>\n",
       "      <td>0.45</td>\n",
       "      <td>0.32</td>\n",
       "      <td>0</td>\n",
       "      <td>-0.131740</td>\n",
       "      <td>-0.152193</td>\n",
       "      <td>-0.038417</td>\n",
       "      <td>0.132132</td>\n",
       "    </tr>\n",
       "    <tr>\n",
       "      <th>7</th>\n",
       "      <td>4631</td>\n",
       "      <td>28631</td>\n",
       "      <td>2</td>\n",
       "      <td>1</td>\n",
       "      <td>0.27</td>\n",
       "      <td>0.49</td>\n",
       "      <td>6525</td>\n",
       "      <td>370</td>\n",
       "      <td>818</td>\n",
       "      <td>50</td>\n",
       "      <td>0.41</td>\n",
       "      <td>0.48</td>\n",
       "      <td>1</td>\n",
       "      <td>0.070879</td>\n",
       "      <td>-0.077271</td>\n",
       "      <td>0.141676</td>\n",
       "      <td>0.398598</td>\n",
       "    </tr>\n",
       "    <tr>\n",
       "      <th>8</th>\n",
       "      <td>4631</td>\n",
       "      <td>28632</td>\n",
       "      <td>2</td>\n",
       "      <td>1</td>\n",
       "      <td>0.32</td>\n",
       "      <td>0.43</td>\n",
       "      <td>5644</td>\n",
       "      <td>2605</td>\n",
       "      <td>1064</td>\n",
       "      <td>67</td>\n",
       "      <td>0.43</td>\n",
       "      <td>0.44</td>\n",
       "      <td>0</td>\n",
       "      <td>0.033441</td>\n",
       "      <td>0.386583</td>\n",
       "      <td>0.271978</td>\n",
       "      <td>0.587344</td>\n",
       "    </tr>\n",
       "    <tr>\n",
       "      <th>9</th>\n",
       "      <td>4632</td>\n",
       "      <td>28633</td>\n",
       "      <td>4</td>\n",
       "      <td>1</td>\n",
       "      <td>0.19</td>\n",
       "      <td>0.21</td>\n",
       "      <td>8460</td>\n",
       "      <td>2631</td>\n",
       "      <td>1296</td>\n",
       "      <td>0</td>\n",
       "      <td>0.59</td>\n",
       "      <td>0.60</td>\n",
       "      <td>0</td>\n",
       "      <td>0.153108</td>\n",
       "      <td>0.391979</td>\n",
       "      <td>0.394864</td>\n",
       "      <td>-0.156539</td>\n",
       "    </tr>\n",
       "  </tbody>\n",
       "</table>\n",
       "</div>"
      ],
      "text/plain": [
       "   query_id  url_id  query_length  is_homepage  sig1  sig2  sig3  sig4  sig5  \\\n",
       "0      4631   28624             2            1  0.09  0.15  1288   352   376   \n",
       "1      4631   28625             2            1  0.20  0.35  4662   337   666   \n",
       "2      4631   28626             2            1  0.36  0.49  1121   385   270   \n",
       "3      4631   28627             2            1  0.21  0.45  2925   478   640   \n",
       "4      4631   28628             2            1  0.25  0.42  1328   429   412   \n",
       "5      4631   28629             2            1  0.23  0.44  2147   331   514   \n",
       "6      4631   28630             2            1  0.24  0.48  1757     9   478   \n",
       "7      4631   28631             2            1  0.27  0.49  6525   370   818   \n",
       "8      4631   28632             2            1  0.32  0.43  5644  2605  1064   \n",
       "9      4632   28633             4            1  0.19  0.21  8460  2631  1296   \n",
       "\n",
       "   sig6  sig7  sig8  relevance  sig3-pre  sig4-pre  sig5-pre  sig6-pre  \n",
       "0    13  0.46  0.35          0 -0.151670 -0.081007 -0.092444 -0.012204  \n",
       "1    28  0.43  0.27          1 -0.008290 -0.084120  0.061164  0.154337  \n",
       "2    15  0.34  0.20          1 -0.158767 -0.074158 -0.148591  0.010002  \n",
       "3    14  0.44  0.33          1 -0.082105 -0.054856  0.047392 -0.001101  \n",
       "4    27  0.40  0.57          1 -0.149970 -0.065026 -0.073376  0.143235  \n",
       "5    39  0.47  0.23          0 -0.115167 -0.085365 -0.019348  0.276468  \n",
       "6    26  0.45  0.32          0 -0.131740 -0.152193 -0.038417  0.132132  \n",
       "7    50  0.41  0.48          1  0.070879 -0.077271  0.141676  0.398598  \n",
       "8    67  0.43  0.44          0  0.033441  0.386583  0.271978  0.587344  \n",
       "9     0  0.59  0.60          0  0.153108  0.391979  0.394864 -0.156539  "
      ]
     },
     "execution_count": 6,
     "metadata": {},
     "output_type": "execute_result"
    }
   ],
   "source": [
    "df.head(10)"
   ]
  },
  {
   "cell_type": "markdown",
   "metadata": {},
   "source": [
    "## 2. sig6"
   ]
  },
  {
   "cell_type": "code",
   "execution_count": 7,
   "metadata": {},
   "outputs": [
    {
     "data": {
      "text/html": [
       "<div>\n",
       "<style scoped>\n",
       "    .dataframe tbody tr th:only-of-type {\n",
       "        vertical-align: middle;\n",
       "    }\n",
       "\n",
       "    .dataframe tbody tr th {\n",
       "        vertical-align: top;\n",
       "    }\n",
       "\n",
       "    .dataframe thead th {\n",
       "        text-align: right;\n",
       "    }\n",
       "</style>\n",
       "<table border=\"1\" class=\"dataframe\">\n",
       "  <thead>\n",
       "    <tr style=\"text-align: right;\">\n",
       "      <th></th>\n",
       "      <th>sig6</th>\n",
       "      <th>relevance</th>\n",
       "    </tr>\n",
       "  </thead>\n",
       "  <tbody>\n",
       "    <tr>\n",
       "      <th>9</th>\n",
       "      <td>0</td>\n",
       "      <td>0</td>\n",
       "    </tr>\n",
       "    <tr>\n",
       "      <th>10</th>\n",
       "      <td>0</td>\n",
       "      <td>0</td>\n",
       "    </tr>\n",
       "    <tr>\n",
       "      <th>11</th>\n",
       "      <td>0</td>\n",
       "      <td>1</td>\n",
       "    </tr>\n",
       "    <tr>\n",
       "      <th>12</th>\n",
       "      <td>0</td>\n",
       "      <td>0</td>\n",
       "    </tr>\n",
       "    <tr>\n",
       "      <th>13</th>\n",
       "      <td>0</td>\n",
       "      <td>0</td>\n",
       "    </tr>\n",
       "    <tr>\n",
       "      <th>14</th>\n",
       "      <td>0</td>\n",
       "      <td>0</td>\n",
       "    </tr>\n",
       "    <tr>\n",
       "      <th>15</th>\n",
       "      <td>0</td>\n",
       "      <td>0</td>\n",
       "    </tr>\n",
       "    <tr>\n",
       "      <th>16</th>\n",
       "      <td>0</td>\n",
       "      <td>0</td>\n",
       "    </tr>\n",
       "    <tr>\n",
       "      <th>17</th>\n",
       "      <td>0</td>\n",
       "      <td>0</td>\n",
       "    </tr>\n",
       "    <tr>\n",
       "      <th>18</th>\n",
       "      <td>0</td>\n",
       "      <td>1</td>\n",
       "    </tr>\n",
       "  </tbody>\n",
       "</table>\n",
       "</div>"
      ],
      "text/plain": [
       "    sig6  relevance\n",
       "9      0          0\n",
       "10     0          0\n",
       "11     0          1\n",
       "12     0          0\n",
       "13     0          0\n",
       "14     0          0\n",
       "15     0          0\n",
       "16     0          0\n",
       "17     0          0\n",
       "18     0          1"
      ]
     },
     "execution_count": 7,
     "metadata": {},
     "output_type": "execute_result"
    }
   ],
   "source": [
    "df.groupby(\"sig6\").get_group(0)[[\"sig6\",\"relevance\"]].head(10)"
   ]
  },
  {
   "cell_type": "code",
   "execution_count": 10,
   "metadata": {},
   "outputs": [
    {
     "data": {
      "text/plain": [
       "<matplotlib.axes._subplots.AxesSubplot at 0x11592dcf8>"
      ]
     },
     "execution_count": 10,
     "metadata": {},
     "output_type": "execute_result"
    },
    {
     "data": {
      "image/png": "[encoded data removed]",
      "text/plain": [
       "<Figure size 432x288 with 1 Axes>"
      ]
     },
     "metadata": {},
     "output_type": "display_data"
    }
   ],
   "source": [
    "df[\"sig6\"].plot()"
   ]
  },
  {
   "cell_type": "code",
   "execution_count": 11,
   "metadata": {},
   "outputs": [
    {
     "data": {
      "text/plain": [
       "<matplotlib.axes._subplots.AxesSubplot at 0x115d3add8>"
      ]
     },
     "execution_count": 11,
     "metadata": {},
     "output_type": "execute_result"
    },
    {
     "data": {
      "image/png": "[encoded data removed]",
      "text/plain": [
       "<Figure size 432x288 with 1 Axes>"
      ]
     },
     "metadata": {},
     "output_type": "display_data"
    }
   ],
   "source": [
    "df[df.sig6 != 0][\"sig6\"].reset_index().pop(\"sig6\").plot()"
   ]
  },
  {
   "cell_type": "code",
   "execution_count": 12,
   "metadata": {},
   "outputs": [
    {
     "name": "stdout",
     "output_type": "stream",
     "text": [
      "27881\n",
      "353\n",
      "125\n",
      "66\n",
      "40\n"
     ]
    }
   ],
   "source": [
    "newdf = df[df.sig6 != 0][\"sig6\"].reset_index().pop(\"sig6\")\n",
    "print(len(newdf))\n",
    "print(len(newdf.loc[newdf>500]))\n",
    "print(len(newdf[newdf>1000]))\n",
    "print(len(newdf[newdf>1500]))\n",
    "print(len(newdf[newdf>2000]))"
   ]
  },
  {
   "cell_type": "code",
   "execution_count": 13,
   "metadata": {},
   "outputs": [],
   "source": [
    "def trans(x):\n",
    "    if x==0:\n",
    "        return 0\n",
    "    elif x<500:\n",
    "        return 1\n",
    "    elif x<1000:\n",
    "        return 2\n",
    "    elif x<1500:\n",
    "        return 3\n",
    "    else: return 4\n",
    "df[\"sig6_cls\"] = df[\"sig6\"].map(trans)"
   ]
  },
  {
   "cell_type": "markdown",
   "metadata": {},
   "source": [
    "## 3. Mean Encoding"
   ]
  },
  {
   "cell_type": "code",
   "execution_count": 14,
   "metadata": {},
   "outputs": [],
   "source": [
    "# Normal Encoding\n",
    "mean = df.groupby(\"query_id\").relevance.mean()\n",
    "df[\"target_query_id_encoded\"] = df[\"query_id\"].map(mean)\n",
    "mean = df.groupby(\"query_length\").relevance.mean()\n",
    "df[\"target_query_length_encoded\"] = df[\"query_length\"].map(mean)\n",
    "mean = df.groupby(\"is_homepage\").relevance.mean()\n",
    "df[\"target_is_homepage_encoded\"] = df[\"is_homepage\"].map(mean)\n",
    "mean = df.groupby(\"sig6_cls\").relevance.mean()\n",
    "df[\"target_sig6_cls_encoded\"] = df[\"sig6_cls\"].map(mean)"
   ]
  },
  {
   "cell_type": "code",
   "execution_count": 15,
   "metadata": {},
   "outputs": [],
   "source": [
    "kf = KFold(n_splits = 5, shuffle = False)\n",
    "df['target_query_id_encoded_v'] = np.nan\n",
    "\n",
    "for tr_ind, val_ind in kf.split(df):\n",
    "    X_tr, X_val = df.iloc[tr_ind], df.iloc[val_ind]\n",
    "    means = X_val['query_id'].map(X_tr.groupby('query_id').relevance.mean())\n",
    "    df.loc[val_ind, 'target_query_id_encoded_v'] = means\n",
    "\n",
    "mean = df[\"relevance\"].mean()\n",
    "df['target_query_id_encoded_v'].fillna(mean, inplace = True)"
   ]
  },
  {
   "cell_type": "code",
   "execution_count": 16,
   "metadata": {},
   "outputs": [],
   "source": [
    "kf = KFold(n_splits = 5, shuffle = False)\n",
    "df['target_query_length_encoded_v'] = np.nan\n",
    "\n",
    "for tr_ind, val_ind in kf.split(df):\n",
    "    X_tr, X_val = df.iloc[tr_ind], df.iloc[val_ind]\n",
    "    means = X_val['query_length'].map(X_tr.groupby('query_length').relevance.mean())\n",
    "    df.loc[val_ind, 'target_query_length_encoded_v'] = means\n",
    "\n",
    "mean = df[\"relevance\"].mean()\n",
    "df['target_query_length_encoded_v'].fillna(mean, inplace = True)"
   ]
  },
  {
   "cell_type": "code",
   "execution_count": 17,
   "metadata": {},
   "outputs": [],
   "source": [
    "kf = KFold(n_splits = 5, shuffle = False)\n",
    "df['target_is_homepage_encoded_v'] = np.nan\n",
    "\n",
    "for tr_ind, val_ind in kf.split(df):\n",
    "    X_tr, X_val = df.iloc[tr_ind], df.iloc[val_ind]\n",
    "    means = X_val['is_homepage'].map(X_tr.groupby('is_homepage').relevance.mean())\n",
    "    df.loc[val_ind, 'target_is_homepage_encoded_v'] = means\n",
    "\n",
    "mean = df[\"relevance\"].mean()\n",
    "df['target_is_homepage_encoded_v'].fillna(mean, inplace = True)"
   ]
  },
  {
   "cell_type": "code",
   "execution_count": 18,
   "metadata": {},
   "outputs": [],
   "source": [
    "kf = KFold(n_splits = 5, shuffle = False)\n",
    "df['target_sig6_cls_encoded_v'] = np.nan\n",
    "\n",
    "for tr_ind, val_ind in kf.split(df):\n",
    "    X_tr, X_val = df.iloc[tr_ind], df.iloc[val_ind]\n",
    "    means = X_val['sig6_cls'].map(X_tr.groupby('sig6_cls').relevance.mean())\n",
    "    df.loc[val_ind, 'target_sig6_cls_encoded_v'] = means\n",
    "\n",
    "mean = df[\"relevance\"].mean()\n",
    "df['target_sig6_cls_encoded_v'].fillna(mean, inplace = True)"
   ]
  },
  {
   "cell_type": "markdown",
   "metadata": {},
   "source": [
    "## 4. Agg Feature"
   ]
  },
  {
   "cell_type": "code",
   "execution_count": 19,
   "metadata": {},
   "outputs": [],
   "source": [
    "for feat in feats:\n",
    "    mean = df.groupby(\"query_id\")[feat+\"-pre\"].mean()\n",
    "    df[feat+\"-pre\"+\"_query_id_encoded\"] = df[\"query_id\"].map(mean)\n",
    "    mean = df.groupby(\"query_length\")[feat+\"-pre\"].mean()\n",
    "    df[feat+\"-pre\"+\"_query_length_encoded\"] = df[\"query_length\"].map(mean)\n",
    "    mean = df.groupby(\"is_homepage\")[feat+\"-pre\"].mean()\n",
    "    df[feat+\"-pre\"+\"_is_homepage_encoded\"] = df[\"is_homepage\"].map(mean)\n",
    "    mean = df.groupby(\"sig6_cls\")[feat+\"-pre\"].mean()\n",
    "    df[feat+\"-pre\"+\"_sig6_cls_encoded\"] = df[\"sig6_cls\"].map(mean)"
   ]
  },
  {
   "cell_type": "code",
   "execution_count": 20,
   "metadata": {},
   "outputs": [
    {
     "data": {
      "text/plain": [
       "Index(['query_id', 'url_id', 'query_length', 'is_homepage', 'sig1', 'sig2',\n",
       "       'sig3', 'sig4', 'sig5', 'sig6', 'sig7', 'sig8', 'relevance', 'sig3-pre',\n",
       "       'sig4-pre', 'sig5-pre', 'sig6-pre', 'sig6_cls',\n",
       "       'target_query_id_encoded', 'target_query_length_encoded',\n",
       "       'target_is_homepage_encoded', 'target_sig6_cls_encoded',\n",
       "       'target_query_id_encoded_v', 'target_query_length_encoded_v',\n",
       "       'target_is_homepage_encoded_v', 'target_sig6_cls_encoded_v',\n",
       "       'sig3-pre_query_id_encoded', 'sig3-pre_query_length_encoded',\n",
       "       'sig3-pre_is_homepage_encoded', 'sig3-pre_sig6_cls_encoded',\n",
       "       'sig4-pre_query_id_encoded', 'sig4-pre_query_length_encoded',\n",
       "       'sig4-pre_is_homepage_encoded', 'sig4-pre_sig6_cls_encoded',\n",
       "       'sig5-pre_query_id_encoded', 'sig5-pre_query_length_encoded',\n",
       "       'sig5-pre_is_homepage_encoded', 'sig5-pre_sig6_cls_encoded',\n",
       "       'sig6-pre_query_id_encoded', 'sig6-pre_query_length_encoded',\n",
       "       'sig6-pre_is_homepage_encoded', 'sig6-pre_sig6_cls_encoded'],\n",
       "      dtype='object')"
      ]
     },
     "execution_count": 20,
     "metadata": {},
     "output_type": "execute_result"
    }
   ],
   "source": [
    "df.columns"
   ]
  },
  {
   "cell_type": "markdown",
   "metadata": {},
   "source": [
    "# Training"
   ]
  },
  {
   "cell_type": "code",
   "execution_count": 21,
   "metadata": {},
   "outputs": [],
   "source": [
    "data = df[[\"sig1\",\n",
    "            \"sig2\",\n",
    "            \"sig7\",\n",
    "            \"sig8\",\n",
    "            \"sig3-pre\",\n",
    "            \"sig4-pre\",\n",
    "            \"sig5-pre\",\n",
    "            \"sig6-pre\",\n",
    "            \"target_query_id_encoded\",\n",
    "            \"target_query_length_encoded\",\n",
    "            \"target_is_homepage_encoded\",\n",
    "            \"target_query_id_encoded_v\",\n",
    "            \"target_query_length_encoded_v\",\n",
    "            \"target_is_homepage_encoded_v\",\n",
    "            #\"target_sig6_cls_encoded_v\"\n",
    "           'sig3-pre_query_id_encoded', 'sig4-pre_query_id_encoded',\n",
    "           'sig5-pre_query_id_encoded', 'sig6-pre_query_id_encoded',\n",
    "           'sig3-pre_query_length_encoded', 'sig3-pre_is_homepage_encoded',\n",
    "           'sig3-pre_sig6_cls_encoded', 'sig4-pre_query_length_encoded',\n",
    "           'sig4-pre_is_homepage_encoded', 'sig4-pre_sig6_cls_encoded',\n",
    "           'sig5-pre_query_length_encoded', 'sig5-pre_is_homepage_encoded',\n",
    "           'sig5-pre_sig6_cls_encoded', 'sig6-pre_query_length_encoded',\n",
    "           'sig6-pre_is_homepage_encoded', 'sig6-pre_sig6_cls_encoded'\n",
    "            ]]"
   ]
  },
  {
   "cell_type": "code",
   "execution_count": 26,
   "metadata": {},
   "outputs": [],
   "source": [
    "for col in pop_cols:\n",
    "    data.pop(col)"
   ]
  },
  {
   "cell_type": "code",
   "execution_count": 27,
   "metadata": {},
   "outputs": [],
   "source": [
    "np.random.seed(0)\n",
    "length = len(data)\n",
    "perm = np.random.permutation(length)\n",
    "train_x = data.loc[perm[:int(0.8*length)]]\n",
    "val_x = data.loc[perm[int(0.8*length):int(0.1*length)]]\n",
    "test_x = data.loc[perm[int(0.1*length):]]\n",
    "train_y = df.loc[perm[:int(0.8*length)]].relevance\n",
    "val_y = df.loc[perm[int(0.8*length):int(0.1*length)]].relevance\n",
    "test_y = df.loc[perm[int(0.1*length):]].relevance"
   ]
  },
  {
   "cell_type": "code",
   "execution_count": 28,
   "metadata": {
    "scrolled": true
   },
   "outputs": [],
   "source": [
    "rf = RandomForestClassifier(criterion='gini', \n",
    "                             n_estimators=200,\n",
    "                             min_samples_split=12,\n",
    "                             min_samples_leaf=1,\n",
    "                             oob_score=True,\n",
    "                             random_state=1,\n",
    "                             n_jobs=-1) \n",
    "\n",
    "rf.fit(train_x, train_y)\n",
    "train_pred_y = rf.predict(train_x)\n",
    "test_pred_y = rf.predict(test_x)"
   ]
  },
  {
   "cell_type": "code",
   "execution_count": 115,
   "metadata": {},
   "outputs": [
    {
     "name": "stdout",
     "output_type": "stream",
     "text": [
      "Training Accuracy: 0.9352\n",
      "Testing Accuracy: 0.8950\n",
      "Out-of-bag Accuracy 0.7515\n"
     ]
    }
   ],
   "source": [
    "# original\n",
    "print(\"Training Accuracy: %.4f\" % accuracy_score(train_y, train_pred_y))\n",
    "print(\"Testing Accuracy: %.4f\" % accuracy_score(test_y, test_pred_y))\n",
    "print(\"Out-of-bag Accuracy %.4f\" % rf.oob_score_)"
   ]
  },
  {
   "cell_type": "code",
   "execution_count": 76,
   "metadata": {},
   "outputs": [
    {
     "name": "stdout",
     "output_type": "stream",
     "text": [
      "Training Accuracy: 0.9334\n",
      "Testing Accuracy: 0.8926\n",
      "Out-of-bag Accuracy 0.7518\n"
     ]
    }
   ],
   "source": [
    "# with sig6_cls\n",
    "print(\"Training Accuracy: %.4f\" % accuracy_score(train_y, train_pred_y))\n",
    "print(\"Testing Accuracy: %.4f\" % accuracy_score(test_y, test_pred_y))\n",
    "print(\"Out-of-bag Accuracy %.4f\" % rf.oob_score_)"
   ]
  },
  {
   "cell_type": "code",
   "execution_count": 111,
   "metadata": {},
   "outputs": [
    {
     "name": "stdout",
     "output_type": "stream",
     "text": [
      "Training Accuracy: 0.9443\n",
      "Testing Accuracy: 0.9025\n",
      "Out-of-bag Accuracy 0.7591\n"
     ]
    }
   ],
   "source": [
    "# with many features\n",
    "print(\"Training Accuracy: %.4f\" % accuracy_score(train_y, train_pred_y))\n",
    "print(\"Testing Accuracy: %.4f\" % accuracy_score(test_y, test_pred_y))\n",
    "print(\"Out-of-bag Accuracy %.4f\" % rf.oob_score_)"
   ]
  },
  {
   "cell_type": "code",
   "execution_count": 124,
   "metadata": {},
   "outputs": [
    {
     "name": "stdout",
     "output_type": "stream",
     "text": [
      "Training Accuracy: 0.9493\n",
      "Testing Accuracy: 0.9062\n",
      "Out-of-bag Accuracy 0.7597\n"
     ]
    }
   ],
   "source": [
    "# with many features trimmed\n",
    "print(\"Training Accuracy: %.4f\" % accuracy_score(train_y, train_pred_y))\n",
    "print(\"Testing Accuracy: %.4f\" % accuracy_score(test_y, test_pred_y))\n",
    "print(\"Out-of-bag Accuracy %.4f\" % rf.oob_score_)"
   ]
  },
  {
   "cell_type": "code",
   "execution_count": 29,
   "metadata": {},
   "outputs": [
    {
     "name": "stdout",
     "output_type": "stream",
     "text": [
      "Importance scores: [0.05838444 0.10062499 0.04104686 0.04615337 0.0510821  0.04483481\n",
      " 0.04531922 0.03606319 0.30022962 0.02539989 0.02028711 0.04657706\n",
      " 0.04493323 0.04774955 0.04325797 0.00708117 0.01119956 0.00929983\n",
      " 0.00917715 0.01129887]\n",
      "Most Important features:  target_query_id_encoded\n"
     ]
    }
   ],
   "source": [
    "print(\"Importance scores:\", rf.feature_importances_)\n",
    "print(\"Most Important features: \",data.columns[np.argmax(rf.feature_importances_)])\n",
    "pop_cols = data.columns[np.argsort(rf.feature_importances_)[:10]]"
   ]
  },
  {
   "cell_type": "markdown",
   "metadata": {},
   "source": [
    "# Ensemble"
   ]
  },
  {
   "cell_type": "code",
   "execution_count": 131,
   "metadata": {},
   "outputs": [],
   "source": [
    "lr = LogisticRegression()\n",
    "lr.fit(train_x, train_y)\n",
    "pred_lr_train = lr.predict(train_x)\n",
    "pred_lr_test = lr.predict(test_x)"
   ]
  },
  {
   "cell_type": "code",
   "execution_count": 132,
   "metadata": {},
   "outputs": [
    {
     "name": "stdout",
     "output_type": "stream",
     "text": [
      "Training Accuracy: 0.7549\n",
      "Testing Accuracy: 0.7542\n"
     ]
    }
   ],
   "source": [
    "print(\"Training Accuracy: %.4f\" % accuracy_score(train_y, pred_lr_train))\n",
    "print(\"Testing Accuracy: %.4f\" % accuracy_score(test_y, pred_lr_test))"
   ]
  },
  {
   "cell_type": "code",
   "execution_count": 34,
   "metadata": {},
   "outputs": [],
   "source": [
    "import xgboost as xgb\n",
    "dtrain = xgb.DMatrix(train_x, label=train_y)\n",
    "dval = xgb.DMatrix(val_x, label=val_y)\n",
    "\n",
    "param = {'bst:max_depth':5, 'bst:eta':1, 'silent':1, 'objective':'binary:logistic', 'nthread':4 }\n",
    "plst = param.items()\n",
    "\n",
    "evallist  = [(dval,'eval'), (dtrain,'train')]\n",
    "num_round = 2000\n",
    "bst = xgb.train(plst, dtrain, num_round, evallist)"
   ]
  },
  {
   "cell_type": "code",
   "execution_count": 42,
   "metadata": {},
   "outputs": [],
   "source": [
    "dtest = xgb.DMatrix(test_x, label=test_y)\n",
    "preds = bst.predict(dtest, ntree_limit=bst.best_ntree_limit, output_margin=True)\n",
    "labels = dtest.get_label()"
   ]
  },
  {
   "cell_type": "code",
   "execution_count": 43,
   "metadata": {},
   "outputs": [
    {
     "name": "stdout",
     "output_type": "stream",
     "text": [
      "accuray=1\n"
     ]
    }
   ],
   "source": [
    "print('accuray=%.f' % (sum(1 for i in range(len(preds)) if int(preds[i] > 0.5) == labels[i]) / float(len(preds))))"
   ]
  },
  {
   "cell_type": "code",
   "execution_count": null,
   "metadata": {},
   "outputs": [],
   "source": []
  }
 ],
 "metadata": {
  "kernelspec": {
   "display_name": "Python 3",
   "language": "python",
   "name": "python3"
  },
  "language_info": {
   "codemirror_mode": {
    "name": "ipython",
    "version": 3
   },
   "file_extension": ".py",
   "mimetype": "text/x-python",
   "name": "python",
   "nbconvert_exporter": "python",
   "pygments_lexer": "ipython3",
   "version": "3.6.5"
  }
 },
 "nbformat": 4,
 "nbformat_minor": 2
}

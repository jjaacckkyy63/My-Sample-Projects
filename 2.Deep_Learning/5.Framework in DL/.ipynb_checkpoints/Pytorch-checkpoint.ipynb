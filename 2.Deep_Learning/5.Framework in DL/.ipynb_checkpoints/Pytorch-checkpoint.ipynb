{
 "cells": [
  {
   "cell_type": "markdown",
   "metadata": {},
   "source": [
    "# Pytorch Tutorial\n",
    "\n",
    "**Pushed by Facebook and designed for Python GPU running**"
   ]
  },
  {
   "cell_type": "code",
   "execution_count": 2,
   "metadata": {},
   "outputs": [],
   "source": [
    "import torch\n",
    "import numpy as np"
   ]
  },
  {
   "cell_type": "markdown",
   "metadata": {},
   "source": [
    "## 1. Create Array"
   ]
  },
  {
   "cell_type": "code",
   "execution_count": 18,
   "metadata": {},
   "outputs": [
    {
     "name": "stdout",
     "output_type": "stream",
     "text": [
      "tensor([[ 1.,  1.,  1.],\n",
      "        [ 1.,  1.,  1.],\n",
      "        [ 1.,  1.,  1.],\n",
      "        [ 1.,  1.,  1.],\n",
      "        [ 1.,  1.,  1.]])\n",
      "tensor([[ 0.,  0.,  0.],\n",
      "        [ 0.,  0.,  0.],\n",
      "        [ 0.,  0.,  0.],\n",
      "        [ 0.,  0.,  0.],\n",
      "        [ 0.,  0.,  0.]])\n",
      "tensor([[ 1.,  0.,  0.,  0.],\n",
      "        [ 0.,  1.,  0.,  0.],\n",
      "        [ 0.,  0.,  1.,  0.],\n",
      "        [ 0.,  0.,  0.,  1.]])\n",
      "tensor([[ 0.5917,  0.3710,  0.8654],\n",
      "        [ 0.2899,  0.4950,  0.6313],\n",
      "        [ 0.9081,  0.6090,  0.9361],\n",
      "        [ 0.4289,  0.9898,  0.8910],\n",
      "        [ 0.6132,  0.3790,  0.8381]])\n",
      "tensor([[-0.2958,  0.5323,  0.1694],\n",
      "        [ 1.8793, -0.1068,  0.0477],\n",
      "        [-1.1863, -0.8325,  0.7114],\n",
      "        [-0.1443, -0.2287, -1.6337],\n",
      "        [-1.3762,  0.8506,  0.4884]])\n",
      "tensor([[ 1.,  1.,  1.,  0.,  0.,  0.],\n",
      "        [ 1.,  1.,  1.,  0.,  0.,  0.],\n",
      "        [ 1.,  1.,  1.,  0.,  0.,  0.],\n",
      "        [ 1.,  1.,  1.,  0.,  0.,  0.],\n",
      "        [ 1.,  1.,  1.,  0.,  0.,  0.]])\n",
      "tensor([[[ 1.,  1.,  1.],\n",
      "         [ 0.,  0.,  0.]],\n",
      "\n",
      "        [[ 1.,  1.,  1.],\n",
      "         [ 0.,  0.,  0.]],\n",
      "\n",
      "        [[ 1.,  1.,  1.],\n",
      "         [ 0.,  0.,  0.]],\n",
      "\n",
      "        [[ 1.,  1.,  1.],\n",
      "         [ 0.,  0.,  0.]],\n",
      "\n",
      "        [[ 1.,  1.,  1.],\n",
      "         [ 0.,  0.,  0.]]])\n",
      "tensor([ 1.,  1.,  1.,  1.,  1.,  1.,  1.,  1.,  1.,  1.,  1.,  1.,\n",
      "         1.,  1.,  1.])\n",
      "tensor([[ 0.,  0.,  0.],\n",
      "        [ 0.,  0.,  0.],\n",
      "        [ 0.,  0.,  0.],\n",
      "        [ 0.,  0.,  0.],\n",
      "        [ 0.,  0.,  0.]])\n",
      "[1 2 4]\n",
      "tensor([ 1,  2,  4])\n",
      "[1 2 4]\n",
      "tensor([ 1.,  2.,  4.])\n"
     ]
    }
   ],
   "source": [
    "x1 = torch.ones(5,3)\n",
    "x2 = torch.zeros(5,3)\n",
    "x3 = torch.eye(4)\n",
    "x4 = torch.rand(5,3)\n",
    "x5 = torch.randn(5,3)\n",
    "\n",
    "#Concatenate x1 and x2 at axis 1\n",
    "x6 = torch.cat((x1,x2),1)\n",
    "#Stack x1 and x2 at axis 1\n",
    "x7 = torch.stack((x1,x2),1)\n",
    "#reshape\n",
    "x8 = x1.view(-1)\n",
    "x9 = x2.expand(5,3)\n",
    "\n",
    "#Numpy relation\n",
    "a1 = np.array([1,2,4])\n",
    "x10 = torch.from_numpy(a1)\n",
    "a2 = x10.numpy()\n",
    "a3 = [1,2,4]\n",
    "x11 = torch.Tensor(a3)\n",
    "\n",
    "print(x1)\n",
    "print(x2)\n",
    "print(x3)\n",
    "print(x4)\n",
    "print(x5)\n",
    "print(x6)\n",
    "print(x7)\n",
    "print(x8)\n",
    "print(x9)\n",
    "print(a1)\n",
    "print(x10)\n",
    "print(a2)\n",
    "print(x11)"
   ]
  },
  {
   "cell_type": "code",
   "execution_count": 20,
   "metadata": {},
   "outputs": [
    {
     "name": "stdout",
     "output_type": "stream",
     "text": [
      "tensor([[ 1.,  1.,  1.],\n",
      "        [ 1.,  1.,  1.],\n",
      "        [ 1.,  1.,  1.],\n",
      "        [ 1.,  1.,  1.],\n",
      "        [ 1.,  1.,  1.]])\n"
     ]
    }
   ],
   "source": [
    "y1 = x1+x2\n",
    "print(y1)"
   ]
  },
  {
   "cell_type": "markdown",
   "metadata": {},
   "source": [
    "## 2. Variable"
   ]
  },
  {
   "cell_type": "code",
   "execution_count": 9,
   "metadata": {},
   "outputs": [],
   "source": [
    "from torch.autograd import Variable\n",
    "\n",
    "#requires_grad: Update or not,  volatile: need outcome but don't update\n",
    "a = Variable(x1, requires_grad=True)\n",
    "b = Variable(x2, volatile=True)\n",
    "c = a + b"
   ]
  },
  {
   "cell_type": "markdown",
   "metadata": {},
   "source": [
    "## 3. Computation\n",
    "\n",
    "1. 操作現有參數得到loss\n",
    "2. 呼叫optimizer的zero_grad歸零grads\n",
    "3. 呼叫loss backward算出所有梯度\n",
    "4. optimizer.step更新梯度\n"
   ]
  },
  {
   "cell_type": "code",
   "execution_count": 11,
   "metadata": {},
   "outputs": [
    {
     "name": "stdout",
     "output_type": "stream",
     "text": [
      "tensor(30.)\n",
      "tensor(27.)\n",
      "tensor(24.0000)\n",
      "tensor(21.0000)\n",
      "tensor(18.0000)\n",
      "tensor(15.0000)\n",
      "tensor(12.0000)\n",
      "tensor(9.0000)\n",
      "tensor(6.0000)\n",
      "tensor(3.0000)\n"
     ]
    }
   ],
   "source": [
    "from torch.optim import SGD\n",
    "x1 = torch.ones(5,3)\n",
    "x2 = torch.ones(5,3)\n",
    "a = Variable(x1, requires_grad=True)\n",
    "b = Variable(x2, requires_grad=True)\n",
    "\n",
    "optimizer = SGD([a,b], lr=0.1)\n",
    "\n",
    "#run for loop\n",
    "for _ in range(10):\n",
    "    loss = (a+b).sum()\n",
    "    optimizer.zero_grad()\n",
    "    \n",
    "    loss.backward()\n",
    "    optimizer.step()\n",
    "    print(loss)"
   ]
  },
  {
   "cell_type": "markdown",
   "metadata": {},
   "source": [
    "## 4. Neural Network "
   ]
  },
  {
   "cell_type": "code",
   "execution_count": 13,
   "metadata": {},
   "outputs": [],
   "source": [
    "import torch.nn as nn\n",
    "import torch.nn.functional as F"
   ]
  },
  {
   "cell_type": "code",
   "execution_count": 17,
   "metadata": {},
   "outputs": [
    {
     "name": "stdout",
     "output_type": "stream",
     "text": [
      "<generator object Module.parameters at 0x10ca8ed58>\n"
     ]
    }
   ],
   "source": [
    "#Define class for model\n",
    "class Model(nn.Module):\n",
    "    def __init__(self):\n",
    "        super().__init__()\n",
    "        self.conv1 = nn.Conv2d(1, 20, 5)\n",
    "        self.conv2 = nn.Conv2d(20, 20, 5)\n",
    "    def forward(self, x):\n",
    "        x = F.relu(self.conv1(x))\n",
    "        return F.relu(self.conv2(x))\n",
    "\n",
    "model = Model()\n",
    "print(model.parameters())"
   ]
  },
  {
   "cell_type": "code",
   "execution_count": null,
   "metadata": {},
   "outputs": [],
   "source": []
  }
 ],
 "metadata": {
  "kernelspec": {
   "display_name": "Python 3",
   "language": "python",
   "name": "python3"
  },
  "language_info": {
   "codemirror_mode": {
    "name": "ipython",
    "version": 3
   },
   "file_extension": ".py",
   "mimetype": "text/x-python",
   "name": "python",
   "nbconvert_exporter": "python",
   "pygments_lexer": "ipython3",
   "version": "3.6.5"
  }
 },
 "nbformat": 4,
 "nbformat_minor": 2
}

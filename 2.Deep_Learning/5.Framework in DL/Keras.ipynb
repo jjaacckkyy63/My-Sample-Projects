{
 "cells": [
  {
   "cell_type": "markdown",
   "metadata": {},
   "source": [
    "# Keras Tutorial"
   ]
  },
  {
   "cell_type": "code",
   "execution_count": 2,
   "metadata": {},
   "outputs": [],
   "source": [
    "import numpy as np\n",
    "from keras.models import Sequential, Model\n",
    "from keras.layers import Dense, Input, Activation \n",
    "from keras.utils import np_utils\n",
    "from keras.optimizers import RMSprop, Adam\n",
    "\n",
    "% matplotlib inline\n",
    "import matplotlib.pyplot as plt"
   ]
  },
  {
   "cell_type": "markdown",
   "metadata": {},
   "source": [
    "## 1. Regressor\n",
    "\n",
    "### (1)\t建立model\n",
    "\n",
    "A.先建立Model: Model =Sequential()\n",
    "\n",
    "Model.add(layer1)\n",
    "\n",
    "Model.add(layer2)…\n",
    " \n",
    "B.先建立input: X=Input(input_shape)\n",
    "\n",
    "X=layer1()(X)\n",
    "\n",
    "X=layer2()(X)\n",
    "\n",
    "再建立model: model = Model(inputs=…, outputs=…)\n",
    " \n",
    "### (2)\tmodel使用\n",
    "Model.compile\n",
    "\n",
    "Model.fit\n",
    "\n",
    "Model.evaluate\n",
    "\n",
    "Model.predict"
   ]
  },
  {
   "cell_type": "code",
   "execution_count": 8,
   "metadata": {},
   "outputs": [
    {
     "data": {
      "image/png": "[encoded data removed]",
      "text/plain": [
       "<Figure size 432x288 with 1 Axes>"
      ]
     },
     "metadata": {},
     "output_type": "display_data"
    }
   ],
   "source": [
    "# Create data\n",
    "X = np.linspace(-1,1,200)\n",
    "np.random.shuffle(X)\n",
    "Y = 0.3*X + np.random.normal(0, 0.03, (200,))\n",
    "\n",
    "plt.scatter(X,Y)\n",
    "plt.show\n",
    "\n",
    "X_train, Y_train = X[:160], Y[:160]\n",
    "X_test, Y_test = X[160:], Y[160:]"
   ]
  },
  {
   "cell_type": "code",
   "execution_count": 9,
   "metadata": {},
   "outputs": [],
   "source": [
    "# Create Model\n",
    "model = Sequential()\n",
    "model.add(Dense(1, input_dim=1))"
   ]
  },
  {
   "cell_type": "code",
   "execution_count": 10,
   "metadata": {},
   "outputs": [
    {
     "name": "stdout",
     "output_type": "stream",
     "text": [
      "train cost:0.013473714\n",
      "train cost:0.011860834\n",
      "train cost:0.010454584\n",
      "train cost:0.009228298\n",
      "train cost:0.0081588235\n",
      "train cost:0.00722603\n",
      "train cost:0.0064123897\n",
      "train cost:0.0057026464\n",
      "train cost:0.0050835083\n",
      "train cost:0.004543395\n",
      "train cost:0.0040722066\n",
      "train cost:0.00366114\n",
      "train cost:0.003302522\n",
      "train cost:0.0029896535\n",
      "train cost:0.0027166982\n",
      "train cost:0.0024785623\n",
      "train cost:0.0022708024\n",
      "train cost:0.0020895428\n",
      "train cost:0.001931404\n",
      "train cost:0.0017934369\n",
      "train cost:0.0016730672\n",
      "train cost:0.0015680507\n",
      "train cost:0.0014764288\n",
      "train cost:0.001396493\n",
      "train cost:0.0013267549\n",
      "train cost:0.0012659107\n",
      "train cost:0.0012128268\n",
      "train cost:0.0011665139\n",
      "train cost:0.0011261076\n",
      "train cost:0.0010908548\n"
     ]
    }
   ],
   "source": [
    "# Use Model\n",
    "model.compile(loss='mse', optimizer='sgd')\n",
    "for step in range(300):\n",
    "    cost = model.train_on_batch(X_train,Y_train)\n",
    "    if step % 10 is 0:\n",
    "        print('train cost:' + str(cost))"
   ]
  },
  {
   "cell_type": "code",
   "execution_count": 11,
   "metadata": {},
   "outputs": [
    {
     "name": "stdout",
     "output_type": "stream",
     "text": [
      "40/40 [==============================] - 0s 468us/step\n",
      "test cost: 0.0011515626683831215\n",
      "Weights: [[0.27801573]] Bias [-0.00054361]\n"
     ]
    }
   ],
   "source": [
    "cost = model.evaluate(X_test, Y_test, batch_size = 40)\n",
    "print('test cost:', cost)\n",
    "W, b = model.layers[0].get_weights()\n",
    "print('Weights:', W, 'Bias', b)"
   ]
  },
  {
   "cell_type": "code",
   "execution_count": 12,
   "metadata": {},
   "outputs": [
    {
     "data": {
      "text/plain": [
       "<function matplotlib.pyplot.show(*args, **kw)>"
      ]
     },
     "execution_count": 12,
     "metadata": {},
     "output_type": "execute_result"
    },
    {
     "data": {
      "image/png": "[encoded data removed]",
      "text/plain": [
       "<Figure size 432x288 with 1 Axes>"
      ]
     },
     "metadata": {},
     "output_type": "display_data"
    }
   ],
   "source": [
    "Y_pred = model.predict(X_test)\n",
    "plt.scatter(X_test, Y_test)\n",
    "plt.plot(X_test, Y_pred)\n",
    "plt.show"
   ]
  },
  {
   "cell_type": "markdown",
   "metadata": {},
   "source": [
    "## 2. Classifier"
   ]
  },
  {
   "cell_type": "code",
   "execution_count": 13,
   "metadata": {},
   "outputs": [
    {
     "name": "stdout",
     "output_type": "stream",
     "text": [
      "X_train= (60000, 28, 28)\n",
      "Y_train= (60000,)\n",
      "X_test= (10000, 28, 28)\n",
      "Y_test= (10000,)\n"
     ]
    }
   ],
   "source": [
    "from keras.datasets import mnist\n",
    "(X_train, Y_train), (X_test, Y_test) = mnist.load_data()\n",
    "print('X_train=',X_train.shape)\n",
    "print('Y_train=',Y_train.shape)\n",
    "print('X_test=',X_test.shape)\n",
    "print('Y_test=',Y_test.shape)"
   ]
  },
  {
   "cell_type": "code",
   "execution_count": 14,
   "metadata": {},
   "outputs": [],
   "source": [
    "X_train = X_train.reshape(X_train.shape[0], -1) / 255.   # normalize\n",
    "X_test = X_test.reshape(X_test.shape[0], -1) / 255.      # normalize\n",
    "Y_train = np_utils.to_categorical(Y_train, num_classes=10)\n",
    "Y_test = np_utils.to_categorical(Y_test, num_classes=10)"
   ]
  },
  {
   "cell_type": "code",
   "execution_count": 15,
   "metadata": {},
   "outputs": [],
   "source": [
    "model = Sequential()\n",
    "model.add(Dense(32, input_dim=784, activation='relu'))\n",
    "model.add(Dense(10, input_dim=32, activation='softmax'))"
   ]
  },
  {
   "cell_type": "code",
   "execution_count": 16,
   "metadata": {},
   "outputs": [],
   "source": [
    "adam = Adam(lr=0.001, beta_1=0.9, beta_2=0.999, epsilon=1e-8)"
   ]
  },
  {
   "cell_type": "code",
   "execution_count": 17,
   "metadata": {},
   "outputs": [],
   "source": [
    "model.compile(optimizer=adam, loss='categorical_crossentropy', metrics=['accuracy'])"
   ]
  },
  {
   "cell_type": "code",
   "execution_count": 18,
   "metadata": {},
   "outputs": [
    {
     "name": "stdout",
     "output_type": "stream",
     "text": [
      "Epoch 1/2\n",
      "60000/60000 [==============================] - 2s 37us/step - loss: 0.3644 - acc: 0.8974\n",
      "Epoch 2/2\n",
      "60000/60000 [==============================] - 2s 32us/step - loss: 0.1946 - acc: 0.9441\n"
     ]
    },
    {
     "data": {
      "text/plain": [
       "<keras.callbacks.History at 0xb2bc9a5f8>"
      ]
     },
     "execution_count": 18,
     "metadata": {},
     "output_type": "execute_result"
    }
   ],
   "source": [
    "model.fit(X_train, Y_train, epochs=2, batch_size=32)"
   ]
  },
  {
   "cell_type": "code",
   "execution_count": 19,
   "metadata": {},
   "outputs": [
    {
     "name": "stdout",
     "output_type": "stream",
     "text": [
      "10000/10000 [==============================] - 0s 18us/step\n",
      "test loss: 0.17074313362017274\n",
      "accuracy 0.9509\n"
     ]
    }
   ],
   "source": [
    "loss, accuracy=model.evaluate(X_test, Y_test)\n",
    "print('test loss:', loss)\n",
    "print('accuracy', accuracy)"
   ]
  },
  {
   "cell_type": "markdown",
   "metadata": {},
   "source": [
    "## 3. CNN"
   ]
  },
  {
   "cell_type": "code",
   "execution_count": 26,
   "metadata": {},
   "outputs": [
    {
     "name": "stdout",
     "output_type": "stream",
     "text": [
      "X_train= (60000, 28, 28)\n",
      "Y_train= (60000,)\n",
      "X_test= (10000, 28, 28)\n",
      "Y_test= (10000,)\n"
     ]
    }
   ],
   "source": [
    "from keras.layers import Conv2D, MaxPooling2D, Flatten\n",
    "from keras.datasets import mnist\n",
    "(X_train, Y_train), (X_test, Y_test) = mnist.load_data()\n",
    "print('X_train=',X_train.shape)\n",
    "print('Y_train=',Y_train.shape)\n",
    "print('X_test=',X_test.shape)\n",
    "print('Y_test=',Y_test.shape)"
   ]
  },
  {
   "cell_type": "code",
   "execution_count": 32,
   "metadata": {},
   "outputs": [],
   "source": [
    "input_shape=(28,28,1)\n",
    "X_input = Input(input_shape)\n",
    "X = Conv2D(filters=32, kernel_size=5, strides=1, padding='same')(X_input)\n",
    "X = Activation('relu')(X)\n",
    "X = MaxPooling2D(pool_size=2, strides=2, padding='same')(X)\n",
    "X = Conv2D(filters=64, kernel_size=5, strides=1, padding='same')(X)\n",
    "X = Activation('relu')(X)\n",
    "X = MaxPooling2D(pool_size=2, strides=2, padding='same')(X)\n",
    "X = Flatten()(X)\n",
    "X = Dense(1024, activation='relu')(X)\n",
    "X = Dense(10, activation='softmax')(X)\n",
    "model = Model(inputs=X_input, outputs=X, name='CNN_model')"
   ]
  },
  {
   "cell_type": "code",
   "execution_count": 33,
   "metadata": {},
   "outputs": [],
   "source": [
    "adam = Adam(lr=0.001, beta_1=0.9, beta_2=0.999, epsilon=1e-8)"
   ]
  },
  {
   "cell_type": "code",
   "execution_count": 34,
   "metadata": {},
   "outputs": [],
   "source": [
    "model.compile(optimizer=adam, loss='categorical_crossentropy', metrics=['accuracy', 'mae'])"
   ]
  },
  {
   "cell_type": "code",
   "execution_count": 35,
   "metadata": {},
   "outputs": [],
   "source": [
    "X_train = X_train.reshape(-1, 28, 28, 1)/255\n",
    "X_test = X_test.reshape(-1, 28, 28, 1)/255\n",
    "Y_train = np_utils.to_categorical(Y_train, num_classes=10)\n",
    "Y_test = np_utils.to_categorical(Y_test, num_classes=10)"
   ]
  },
  {
   "cell_type": "code",
   "execution_count": 36,
   "metadata": {},
   "outputs": [
    {
     "name": "stdout",
     "output_type": "stream",
     "text": [
      "Epoch 1/1\n",
      "60000/60000 [==============================] - 225s 4ms/step - loss: 2.3016 - acc: 0.1110 - mean_absolute_error: 0.1800\n"
     ]
    },
    {
     "data": {
      "text/plain": [
       "<keras.callbacks.History at 0xb2caeabe0>"
      ]
     },
     "execution_count": 36,
     "metadata": {},
     "output_type": "execute_result"
    }
   ],
   "source": [
    "model.fit(X_train,Y_train,epochs=1,batch_size=16)"
   ]
  },
  {
   "cell_type": "code",
   "execution_count": null,
   "metadata": {},
   "outputs": [],
   "source": []
  }
 ],
 "metadata": {
  "kernelspec": {
   "display_name": "Python 3",
   "language": "python",
   "name": "python3"
  },
  "language_info": {
   "codemirror_mode": {
    "name": "ipython",
    "version": 3
   },
   "file_extension": ".py",
   "mimetype": "text/x-python",
   "name": "python",
   "nbconvert_exporter": "python",
   "pygments_lexer": "ipython3",
   "version": "3.6.5"
  }
 },
 "nbformat": 4,
 "nbformat_minor": 2
}

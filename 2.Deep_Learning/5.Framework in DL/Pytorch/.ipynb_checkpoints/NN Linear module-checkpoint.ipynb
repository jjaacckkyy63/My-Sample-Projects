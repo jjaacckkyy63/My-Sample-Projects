{
 "cells": [
  {
   "cell_type": "code",
   "execution_count": 1,
   "metadata": {},
   "outputs": [],
   "source": [
    "import torch as t\n",
    "from torch.autograd import Variable\n",
    "from torch.optim import SGD\n",
    "from torch import nn"
   ]
  },
  {
   "cell_type": "markdown",
   "metadata": {},
   "source": [
    "# Linear module"
   ]
  },
  {
   "cell_type": "code",
   "execution_count": 26,
   "metadata": {},
   "outputs": [],
   "source": [
    "#Define model\n",
    "class Linear(nn.Module):\n",
    "    def __init__(self, in_features, out_features):\n",
    "        super(Linear, self).__init__()\n",
    "        self.w = nn.Parameter(t.randn(in_features, out_features))\n",
    "        self.b = nn.Parameter(t.randn(out_features))\n",
    "    def forward(self, x):\n",
    "        x = x.mm(self.w)\n",
    "        return x+self.b.expand_as(x)"
   ]
  },
  {
   "cell_type": "code",
   "execution_count": 27,
   "metadata": {},
   "outputs": [],
   "source": [
    "model = Linear(3,4)"
   ]
  },
  {
   "cell_type": "code",
   "execution_count": 28,
   "metadata": {},
   "outputs": [
    {
     "name": "stdout",
     "output_type": "stream",
     "text": [
      "Parameter containing:\n",
      "tensor([[-2.2435, -0.1290,  0.9751, -0.5703],\n",
      "        [ 0.0564,  0.9867,  0.1231,  0.0139],\n",
      "        [-0.0486, -0.9947,  1.3675,  0.1175]])\n",
      "Parameter containing:\n",
      "tensor([ 1.1763, -0.1028,  1.2969, -1.6559])\n",
      "w Parameter containing:\n",
      "tensor([[-2.2435, -0.1290,  0.9751, -0.5703],\n",
      "        [ 0.0564,  0.9867,  0.1231,  0.0139],\n",
      "        [-0.0486, -0.9947,  1.3675,  0.1175]])\n",
      "b Parameter containing:\n",
      "tensor([ 1.1763, -0.1028,  1.2969, -1.6559])\n",
      "tensor([[ 4.4040,  1.5402, -0.2864, -0.8706],\n",
      "        [-1.6348,  0.5747,  0.6365, -2.5447]])\n"
     ]
    }
   ],
   "source": [
    "x = Variable(t.randn(2,3))\n",
    "output = model(x)\n",
    "\n",
    "for a in model.parameters():\n",
    "    print(a)\n",
    "\n",
    "for name, par in model.named_parameters():\n",
    "    print(name, par)\n",
    "\n",
    "print(output)"
   ]
  },
  {
   "cell_type": "markdown",
   "metadata": {},
   "source": [
    "# Module based on linear module"
   ]
  },
  {
   "cell_type": "code",
   "execution_count": 36,
   "metadata": {},
   "outputs": [],
   "source": [
    "#Define model\n",
    "class Dense(nn.Module):\n",
    "    def __init__(self, in_features, hidden_features, out_features):\n",
    "        super(Dense, self).__init__()\n",
    "        self.layer1 = Linear(in_features, hidden_features)\n",
    "        self.layer2 = Linear(hidden_features, out_features)\n",
    "        \n",
    "    def forward(self, x):\n",
    "        z1 = self.layer1(x)\n",
    "        a1 = t.sigmoid(z1)\n",
    "        return self.layer2(a1)"
   ]
  },
  {
   "cell_type": "code",
   "execution_count": 38,
   "metadata": {},
   "outputs": [
    {
     "name": "stdout",
     "output_type": "stream",
     "text": [
      "tensor([[-1.6356, -1.3227],\n",
      "        [-1.6546,  0.1107],\n",
      "        [-1.8221, -1.0363],\n",
      "        [-1.7562, -1.1920],\n",
      "        [-1.7461, -2.1948],\n",
      "        [-1.5788, -0.9605],\n",
      "        [-1.6975, -1.4778],\n",
      "        [-1.8689,  0.2466],\n",
      "        [-1.7590,  1.0837],\n",
      "        [-1.6065, -1.7192],\n",
      "        [-1.7759, -1.5686],\n",
      "        [-1.7598, -1.1379],\n",
      "        [-1.7183, -1.5227],\n",
      "        [-1.7393, -0.2262],\n",
      "        [-1.8507,  0.0249],\n",
      "        [-1.5357, -0.5550],\n",
      "        [-2.0098,  0.6199],\n",
      "        [-1.9986, -0.2763],\n",
      "        [-1.6300, -1.0798],\n",
      "        [-1.7608, -1.2436],\n",
      "        [-1.8891, -0.1030],\n",
      "        [-1.6962,  0.0988],\n",
      "        [-1.5888, -1.9689],\n",
      "        [-1.7502, -1.3355],\n",
      "        [-1.7154,  0.1258],\n",
      "        [-1.8063,  0.2831],\n",
      "        [-1.7256,  0.0664],\n",
      "        [-1.5407, -1.0852],\n",
      "        [-1.7449,  0.0137],\n",
      "        [-1.8042, -1.4701],\n",
      "        [-1.7859, -1.4986],\n",
      "        [-1.7030,  0.1343],\n",
      "        [-1.8511, -0.1418],\n",
      "        [-1.8483, -0.2226],\n",
      "        [-1.6916, -2.5179],\n",
      "        [-1.8120, -1.6552],\n",
      "        [-1.8667, -0.8521],\n",
      "        [-1.5243, -1.0980],\n",
      "        [-1.7000, -1.3381],\n",
      "        [-1.6781, -1.0615],\n",
      "        [-1.4656, -0.6093],\n",
      "        [-1.6126, -2.4766],\n",
      "        [-1.6455, -0.5340],\n",
      "        [-1.6316, -1.9513],\n",
      "        [-1.7479, -0.7382],\n",
      "        [-1.7741, -0.2050],\n",
      "        [-1.8910, -0.4662],\n",
      "        [-1.7119,  0.2101],\n",
      "        [-1.8973, -0.9132],\n",
      "        [-1.7009, -2.2476],\n",
      "        [-1.8398, -0.4894],\n",
      "        [-1.8342, -1.2536],\n",
      "        [-1.7850, -1.5456],\n",
      "        [-1.7670, -0.8122],\n",
      "        [-1.7928, -0.5178],\n",
      "        [-1.6448, -1.4590],\n",
      "        [-1.9820, -0.9168],\n",
      "        [-1.8672, -1.6536],\n",
      "        [-1.8352, -0.1346],\n",
      "        [-1.7756, -0.9717],\n",
      "        [-1.7604, -0.2809],\n",
      "        [-1.7697, -0.5726],\n",
      "        [-1.9796, -0.2873],\n",
      "        [-1.7176, -1.4086],\n",
      "        [-1.6260, -1.5812],\n",
      "        [-1.9563,  0.1200],\n",
      "        [-1.8429, -0.6312],\n",
      "        [-1.7336, -1.8790],\n",
      "        [-1.8709, -1.5895],\n",
      "        [-1.5815,  0.4146],\n",
      "        [-1.9760,  0.8989],\n",
      "        [-1.7831, -0.9389],\n",
      "        [-1.7775, -0.5716],\n",
      "        [-1.9812, -0.3491],\n",
      "        [-1.6797,  0.0449],\n",
      "        [-1.7042, -2.4276],\n",
      "        [-1.9850, -0.8721],\n",
      "        [-1.7572,  0.9459],\n",
      "        [-1.6822, -0.9165],\n",
      "        [-1.7402, -0.4141],\n",
      "        [-1.8075, -0.6242],\n",
      "        [-1.7009,  0.4075],\n",
      "        [-1.8047, -2.0394],\n",
      "        [-1.6486, -2.4342],\n",
      "        [-1.9005, -0.4357],\n",
      "        [-1.8279, -1.1956],\n",
      "        [-1.7202,  0.7632],\n",
      "        [-1.5228, -0.0272],\n",
      "        [-1.6478, -1.5067],\n",
      "        [-1.5613, -1.9148],\n",
      "        [-1.8742, -0.5354],\n",
      "        [-1.8138, -0.6141],\n",
      "        [-1.8149,  1.7815],\n",
      "        [-1.7725, -1.6601],\n",
      "        [-1.7633, -0.1463],\n",
      "        [-1.6984, -0.4152],\n",
      "        [-1.7007,  0.7470],\n",
      "        [-1.9271,  0.2649],\n",
      "        [-1.8293,  1.1928],\n",
      "        [-1.7910, -1.5145]])\n"
     ]
    }
   ],
   "source": [
    "layer = Dense(4,3,2)\n",
    "output = layer(Variable(t.randn(100,4)))\n",
    "print(output)"
   ]
  },
  {
   "cell_type": "code",
   "execution_count": null,
   "metadata": {},
   "outputs": [],
   "source": []
  }
 ],
 "metadata": {
  "kernelspec": {
   "display_name": "Python 3",
   "language": "python",
   "name": "python3"
  },
  "language_info": {
   "codemirror_mode": {
    "name": "ipython",
    "version": 3
   },
   "file_extension": ".py",
   "mimetype": "text/x-python",
   "name": "python",
   "nbconvert_exporter": "python",
   "pygments_lexer": "ipython3",
   "version": "3.6.5"
  }
 },
 "nbformat": 4,
 "nbformat_minor": 2
}

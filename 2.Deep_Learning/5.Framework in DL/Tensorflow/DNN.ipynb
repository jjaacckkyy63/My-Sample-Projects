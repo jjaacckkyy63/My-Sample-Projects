{
 "cells": [
  {
   "cell_type": "code",
   "execution_count": 2,
   "metadata": {},
   "outputs": [
    {
     "name": "stderr",
     "output_type": "stream",
     "text": [
      "Using TensorFlow backend.\n"
     ]
    },
    {
     "name": "stdout",
     "output_type": "stream",
     "text": [
      "Downloading data from https://s3.amazonaws.com/img-datasets/mnist.npz\n",
      " 9109504/11490434 [======================>.......] - ETA: 0s(50000, 28, 28) (50000,)\n"
     ]
    },
    {
     "data": {
      "image/png": "[encoded data removed]",
      "text/plain": [
       "<matplotlib.figure.Figure at 0x7f2ceb4e3f98>"
      ]
     },
     "metadata": {},
     "output_type": "display_data"
    }
   ],
   "source": [
    "from preprocessed_mnist import load_dataset\n",
    "X_train, y_train, X_val, y_val, X_test, y_test = load_dataset()\n",
    "print(X_train.shape, y_train.shape)\n",
    "import matplotlib.pyplot as plt\n",
    "%matplotlib inline\n",
    "plt.imshow(X_train[0], cmap=\"Greys\");"
   ]
  },
  {
   "cell_type": "code",
   "execution_count": 3,
   "metadata": {},
   "outputs": [
    {
     "name": "stdout",
     "output_type": "stream",
     "text": [
      "number of training examples = 50000\n",
      "number of test examples = 10000\n",
      "X_train shape: (784, 50000)\n",
      "Y_train shape: (10, 50000)\n",
      "X_test shape: (784, 10000)\n",
      "Y_test shape: (10, 10000)\n"
     ]
    }
   ],
   "source": [
    "import tensorflow as tf\n",
    "from tensorflow.python.framework import ops\n",
    "import numpy as np\n",
    "import math\n",
    "\n",
    "m = X_train.shape[0]\n",
    "X_train_clean = X_train.reshape((-1, m))\n",
    "y_train_clean = np.zeros((10,m))\n",
    "y_train_clean[y_train,np.arange(m)]=1\n",
    "\n",
    "m = X_test.shape[0]\n",
    "X_test_clean = X_test.reshape((-1, m))\n",
    "y_test_clean = np.zeros((10,m))\n",
    "y_test_clean[y_test,np.arange(m)]=1 \n",
    "\n",
    "print (\"number of training examples = \" + str(X_train_clean.shape[1]))\n",
    "print (\"number of test examples = \" + str(X_test_clean.shape[1]))\n",
    "print (\"X_train shape: \" + str(X_train_clean.shape))\n",
    "print (\"Y_train shape: \" + str(y_train_clean.shape))\n",
    "print (\"X_test shape: \" + str(X_test_clean.shape))\n",
    "print (\"Y_test shape: \" + str(y_test_clean.shape))"
   ]
  },
  {
   "cell_type": "code",
   "execution_count": 4,
   "metadata": {
    "collapsed": true
   },
   "outputs": [],
   "source": [
    "def create_placeholder(n_x, n_y):\n",
    "    \n",
    "    X = tf.placeholder(tf.float32, [n_x, None], name='X')\n",
    "    Y = tf.placeholder(tf.float32, [n_y, None], name='Y')\n",
    "    \n",
    "    return X,Y"
   ]
  },
  {
   "cell_type": "code",
   "execution_count": 42,
   "metadata": {
    "collapsed": true
   },
   "outputs": [],
   "source": [
    "def create_parameters(n_x, n_y):\n",
    "    \n",
    "    tf.set_random_seed(1)\n",
    "    \n",
    "    W1 = tf.get_variable(\"W1\", [128, n_x], initializer=tf.contrib.layers.xavier_initializer(seed=1))\n",
    "    b1 = tf.get_variable(\"b1\", [128,1], initializer=tf.zeros_initializer)\n",
    "    W2 = tf.get_variable(\"W2\", [32,128], initializer=tf.contrib.layers.xavier_initializer(seed=1))\n",
    "    b2 = tf.get_variable(\"b2\", [32,1], initializer=tf.zeros_initializer)\n",
    "    W3 = tf.get_variable(\"W3\", [n_y,32], initializer=tf.contrib.layers.xavier_initializer(seed=1))\n",
    "    b3 = tf.get_variable(\"b3\", [n_y,1], initializer=tf.zeros_initializer)\n",
    "    \n",
    "    parameters = {\"W1\":W1, \"b1\":b1, \"W2\":W2, \"b2\":b2, \"W3\":W3, \"b3\":b3}\n",
    "    \n",
    "    return parameters"
   ]
  },
  {
   "cell_type": "code",
   "execution_count": 43,
   "metadata": {
    "collapsed": true
   },
   "outputs": [],
   "source": [
    "def forward_propagation(X, parameters):\n",
    "    \n",
    "    W1 = parameters['W1']\n",
    "    b1 = parameters['b1']\n",
    "    W2 = parameters['W2']\n",
    "    b2 = parameters['b2']\n",
    "    W3 = parameters['W3']\n",
    "    b3 = parameters['b3']\n",
    "    \n",
    "    z1 = tf.add(tf.matmul(W1,X),b1)\n",
    "    a1 = tf.nn.relu(z1)\n",
    "    z2 = tf.add(tf.matmul(W2,a1),b2)\n",
    "    a2 = tf.nn.relu(z2)\n",
    "    z3 = tf.add(tf.matmul(W3,a2),b3)\n",
    "    \n",
    "    return z3"
   ]
  },
  {
   "cell_type": "code",
   "execution_count": 44,
   "metadata": {
    "collapsed": true
   },
   "outputs": [],
   "source": [
    "def compute_cost(z3, Y):\n",
    "    \n",
    "    logits = tf.transpose(z3)\n",
    "    labels = tf.transpose(Y)\n",
    "    cost = tf.reduce_mean(tf.nn.softmax_cross_entropy_with_logits(logits=logits,labels=labels))\n",
    "    \n",
    "    return cost"
   ]
  },
  {
   "cell_type": "code",
   "execution_count": 45,
   "metadata": {
    "collapsed": true
   },
   "outputs": [],
   "source": [
    "def random_mini_batches(X, Y, mini_batch_size, seed):\n",
    "    \n",
    "    m = X.shape[1]                  # number of training examples\n",
    "    mini_batches = []\n",
    "    np.random.seed(seed)\n",
    "    \n",
    "    # Step 1: Shuffle (X, Y)\n",
    "    permutation = list(np.random.permutation(m))\n",
    "    shuffled_X = X[:, permutation]\n",
    "    shuffled_Y = Y[:, permutation].reshape((Y.shape[0],m))\n",
    "\n",
    "    # Step 2: Partition (shuffled_X, shuffled_Y). Minus the end case.\n",
    "    num_complete_minibatches = math.floor(m/mini_batch_size) # number of mini batches of size mini_batch_size in your partitionning\n",
    "    for k in range(0, num_complete_minibatches):\n",
    "        mini_batch_X = shuffled_X[:, k * mini_batch_size : k * mini_batch_size + mini_batch_size]\n",
    "        mini_batch_Y = shuffled_Y[:, k * mini_batch_size : k * mini_batch_size + mini_batch_size]\n",
    "        mini_batch = (mini_batch_X, mini_batch_Y)\n",
    "        mini_batches.append(mini_batch)\n",
    "    \n",
    "    # Handling the end case (last mini-batch < mini_batch_size)\n",
    "    if m % mini_batch_size != 0:\n",
    "        mini_batch_X = shuffled_X[:, num_complete_minibatches * mini_batch_size : m]\n",
    "        mini_batch_Y = shuffled_Y[:, num_complete_minibatches * mini_batch_size : m]\n",
    "        mini_batch = (mini_batch_X, mini_batch_Y)\n",
    "        mini_batches.append(mini_batch)\n",
    "    \n",
    "    return mini_batches"
   ]
  },
  {
   "cell_type": "code",
   "execution_count": 61,
   "metadata": {},
   "outputs": [],
   "source": [
    "def model(X_train, y_train, X_test, y_test, learning_rate=0.002, num_epochs=125, minibatch_size = 1000):\n",
    "    \n",
    "    ops.reset_default_graph()\n",
    "    tf.set_random_seed(1)\n",
    "    seed = 3\n",
    "    n_x, m = X_train.shape\n",
    "    n_y = y_train.shape[0]\n",
    "    costs = []\n",
    "    \n",
    "    X, Y = create_placeholder(n_x,n_y)\n",
    "    parameters = create_parameters(n_x,n_y)\n",
    "    z3 = forward_propagation(X, parameters)\n",
    "    cost = compute_cost(z3, Y)\n",
    "    \n",
    "    optimizer = tf.train.AdamOptimizer(learning_rate, beta1=0.9, beta2=0.999, epsilon=1e-8).minimize(cost)\n",
    "    init = tf.global_variables_initializer()\n",
    "    \n",
    "    with tf.Session() as sess:\n",
    "        \n",
    "        sess.run(init)\n",
    "        \n",
    "        for epoch in range(num_epochs):\n",
    "        \n",
    "            epoch_cost = 0\n",
    "            num_minibatches = int(m/minibatch_size)\n",
    "            seed = seed+1\n",
    "            minibatches = random_mini_batches(X_train, y_train, minibatch_size, seed)\n",
    "            \n",
    "            for minibatch in minibatches:\n",
    "            \n",
    "                (minibatch_X, minibatch_Y) = minibatch\n",
    "                _, minibatch_cost = sess.run([optimizer, cost], feed_dict={X: minibatch_X, Y: minibatch_Y})\n",
    "                epoch_cost += minibatch_cost/num_minibatches\n",
    "            \n",
    "            if epoch % 5 == 0:\n",
    "                print('Cost after epoch %i: %f' % (epoch, epoch_cost))\n",
    "                costs.append(epoch_cost)\n",
    "        \n",
    "        #Print cost\n",
    "        plt.plot(np.squeeze(costs))\n",
    "        plt.ylabel('cost')\n",
    "        plt.xlabel('iterations per fives')\n",
    "        plt.title('Learning rate='+str(learning_rate))\n",
    "        plt.show\n",
    "        \n",
    "        #Save parameters\n",
    "        parameters = sess.run(parameters)\n",
    "        \n",
    "        #Print Accuracy\n",
    "        correct_prediction = tf.equal(tf.argmax(z3), tf.argmax(Y))\n",
    "        accuracy = tf.reduce_mean(tf.cast(correct_prediction, \"float\"))\n",
    "        print (\"Train Accuracy:\", accuracy.eval({X: X_train, Y: y_train}))\n",
    "        print (\"Test Accuracy:\", accuracy.eval({X: X_test, Y: y_test}))\n",
    "        \n",
    "        return parameters"
   ]
  },
  {
   "cell_type": "code",
   "execution_count": 62,
   "metadata": {},
   "outputs": [
    {
     "name": "stdout",
     "output_type": "stream",
     "text": [
      "Cost after epoch 0: 2.305273\n",
      "Cost after epoch 5: 2.236030\n",
      "Cost after epoch 10: 1.981076\n",
      "Cost after epoch 15: 1.671543\n",
      "Cost after epoch 20: 1.410300\n",
      "Cost after epoch 25: 1.196302\n",
      "Cost after epoch 30: 1.024266\n",
      "Cost after epoch 35: 0.885169\n",
      "Cost after epoch 40: 0.766332\n",
      "Cost after epoch 45: 0.660190\n",
      "Cost after epoch 50: 0.580048\n",
      "Cost after epoch 55: 0.503974\n",
      "Cost after epoch 60: 0.436435\n",
      "Cost after epoch 65: 0.375068\n",
      "Cost after epoch 70: 0.334939\n",
      "Cost after epoch 75: 0.286095\n",
      "Cost after epoch 80: 0.262808\n",
      "Cost after epoch 85: 0.238750\n",
      "Cost after epoch 90: 0.216301\n",
      "Cost after epoch 95: 0.204551\n",
      "Cost after epoch 100: 0.175966\n",
      "Cost after epoch 105: 0.127153\n",
      "Cost after epoch 110: 0.077962\n",
      "Cost after epoch 115: 0.051093\n",
      "Cost after epoch 120: 0.039161\n",
      "Train Accuracy: 0.99806\n",
      "Test Accuracy: 0.1009\n"
     ]
    },
    {
     "data": {
      "image/png": "[encoded data removed]",
      "text/plain": [
       "<matplotlib.figure.Figure at 0x7f2ce60e7dd8>"
      ]
     },
     "metadata": {},
     "output_type": "display_data"
    }
   ],
   "source": [
    "parameters = model(X_train_clean, y_train_clean, X_test_clean, y_test_clean)"
   ]
  },
  {
   "cell_type": "code",
   "execution_count": null,
   "metadata": {
    "collapsed": true
   },
   "outputs": [],
   "source": []
  }
 ],
 "metadata": {
  "kernelspec": {
   "display_name": "Python 3",
   "language": "python",
   "name": "python3"
  },
  "language_info": {
   "codemirror_mode": {
    "name": "ipython",
    "version": 3
   },
   "file_extension": ".py",
   "mimetype": "text/x-python",
   "name": "python",
   "nbconvert_exporter": "python",
   "pygments_lexer": "ipython3",
   "version": "3.6.5"
  }
 },
 "nbformat": 4,
 "nbformat_minor": 2
}

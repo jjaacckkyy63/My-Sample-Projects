{
 "cells": [
  {
   "cell_type": "markdown",
   "metadata": {},
   "source": [
    "# Tensorflow Basic Flow\n",
    "### Excerpted from DeepLearning Online Course\n",
    "Excerpted from Morvan\n",
    "https://morvanzhou.github.io/tutorials/machine-learning/tensorflow/2-2-example2/"
   ]
  },
  {
   "cell_type": "markdown",
   "metadata": {},
   "source": [
    "### 1. Basic Framework"
   ]
  },
  {
   "cell_type": "code",
   "execution_count": 1,
   "metadata": {},
   "outputs": [],
   "source": [
    "import tensorflow as tf\n",
    "import numpy as np\n",
    "\n",
    "#create data\n",
    "x_data = np.random.randn(100,10).astype(np.float32)\n",
    "y_data = np.random.randn(5,10)"
   ]
  },
  {
   "cell_type": "code",
   "execution_count": 3,
   "metadata": {},
   "outputs": [],
   "source": [
    "#Step 1: Create variable type\n",
    "\n",
    "#1. constant (numbers)\n",
    "a = tf.constant(5, name='const1')\n",
    "\n",
    "#2. variable (train parameters)\n",
    "weights1 = tf.Variable(tf.random_uniform([5,100],-1.0,1.0), dtype=tf.float32, name='w1') #input real value first, allow same name\n",
    "bias1 = tf.Variable(tf.zeros([5,1]))\n",
    "\n",
    "with tf.variable_scope(\"scope1\", reuse=False):\n",
    "    weights2 = tf.get_variable('w1', [1], initializer=tf.contrib.layers.xavier_initializer(seed=1)) #input name first, don't allow same name\n",
    "    bias2 = tf.get_variable('b1', [1], initializer=tf.zeros_initializer())\n",
    "\n",
    "#3. placeholder (data)\n",
    "x = tf.placeholder(tf.float32, [100,1], name='x1')"
   ]
  },
  {
   "cell_type": "code",
   "execution_count": 4,
   "metadata": {},
   "outputs": [],
   "source": [
    "#step 2: Calculation\n",
    "\n",
    "\"\"\"\n",
    "    funciton list:\n",
    "    1. math\n",
    "    tf.add, tf.subtract, tf.matmul, tf.square\n",
    "    2. shape\n",
    "    tf.get_shape().as_list(), tf.reshape(X, [dimension1, dimension2, -1]), tf.transpose(X, perm=[0,1,2]) //height, row, column\n",
    "    3. sum\n",
    "    tf.reduce_sum, tf.reduce_mean\n",
    "    4. function\n",
    "    tf.nn.relu, tf.nn.softmax, tf.sigmoid\n",
    "\"\"\"\n",
    "\n",
    "z = tf.matmul(weights1,x_data)+bias1\n",
    "a = tf.tanh(z)\n",
    "cost = tf.reduce_mean(tf.square(a-y_data))"
   ]
  },
  {
   "cell_type": "code",
   "execution_count": 5,
   "metadata": {},
   "outputs": [],
   "source": [
    "#step 3: Setup initializer\n",
    "\n",
    "init = tf.global_variables_initializer()\n",
    "optimizer = tf.train.GradientDescentOptimizer(learning_rate = 0.04)\n",
    "train = optimizer.minimize(cost)"
   ]
  },
  {
   "cell_type": "code",
   "execution_count": 6,
   "metadata": {},
   "outputs": [
    {
     "name": "stdout",
     "output_type": "stream",
     "text": [
      "0 1.427361\n",
      "10 1.2352552\n",
      "20 1.1726582\n",
      "30 1.1141702\n",
      "40 1.1081862\n",
      "50 1.1052725\n",
      "60 1.1029644\n",
      "70 1.1004261\n",
      "80 1.0964683\n",
      "90 1.08881\n",
      "100 1.0716075\n",
      "110 1.0093932\n",
      "120 0.9972276\n",
      "130 0.9644335\n",
      "140 0.9532713\n",
      "150 0.9351319\n",
      "160 0.9289573\n",
      "170 0.92738074\n",
      "180 0.9266496\n",
      "190 0.92630935\n",
      "200 0.92604774\n",
      "210 0.92578614\n",
      "220 0.9254988\n",
      "230 0.92516065\n",
      "240 0.9247297\n",
      "250 0.92412513\n",
      "260 0.9231668\n",
      "270 0.92139846\n",
      "280 0.91769964\n",
      "290 0.91222864\n",
      "300 0.9101879\n",
      "310 0.909927\n",
      "320 0.90985656\n",
      "330 0.90980715\n",
      "340 0.9097622\n",
      "350 0.90971947\n",
      "360 0.9096784\n",
      "370 0.90963876\n",
      "380 0.9096004\n",
      "390 0.9095631\n",
      "400 0.90952677\n",
      "410 0.9094908\n",
      "420 0.9094555\n",
      "430 0.9094206\n",
      "440 0.90938574\n",
      "450 0.90935105\n",
      "460 0.90931594\n",
      "470 0.9092806\n",
      "480 0.90924454\n",
      "490 0.90920746\n",
      "500 0.9091693\n",
      "510 0.90912956\n",
      "520 0.90908784\n",
      "530 0.90904355\n",
      "540 0.9089962\n",
      "550 0.9089447\n",
      "560 0.9088884\n",
      "570 0.9088257\n",
      "580 0.9087547\n",
      "590 0.9086732\n",
      "600 0.90857744\n",
      "610 0.90846246\n",
      "620 0.9083203\n",
      "630 0.9081389\n",
      "640 0.90789694\n",
      "650 0.90755713\n",
      "660 0.9070449\n",
      "670 0.906193\n",
      "680 0.90456843\n",
      "690 0.90092444\n",
      "700 0.8937851\n",
      "710 0.8899724\n",
      "720 0.88959867\n",
      "730 0.88956964\n",
      "740 0.8895599\n",
      "750 0.8895514\n",
      "760 0.8895432\n",
      "770 0.8895351\n",
      "780 0.8895272\n",
      "790 0.88951945\n",
      "800 0.8895118\n",
      "810 0.8895044\n",
      "820 0.88949704\n",
      "830 0.88948995\n",
      "840 0.889483\n",
      "850 0.889476\n",
      "860 0.8894693\n",
      "870 0.88946265\n",
      "880 0.88945603\n",
      "890 0.8894496\n",
      "900 0.88944334\n",
      "910 0.8894371\n",
      "920 0.889431\n",
      "930 0.8894249\n",
      "940 0.88941896\n",
      "950 0.8894131\n",
      "960 0.8894073\n",
      "970 0.8894016\n",
      "980 0.88939595\n",
      "990 0.8893904\n"
     ]
    }
   ],
   "source": [
    "#step 4: Create session\n",
    "sess = tf.Session()\n",
    "\n",
    "sess.run(init)\n",
    "\n",
    "for i in range(1000):\n",
    "    sess.run([train,cost])\n",
    "    \n",
    "    if i % 10 == 0:\n",
    "        print(i, sess.run(cost))\n",
    "\n",
    "sess.close()\n",
    "\n",
    "#or use with tf.Session() as sess:"
   ]
  },
  {
   "cell_type": "markdown",
   "metadata": {},
   "source": [
    "### 2. Basic Neural Network"
   ]
  },
  {
   "cell_type": "code",
   "execution_count": 22,
   "metadata": {},
   "outputs": [],
   "source": [
    "def add_layer(inputs, in_size, out_size, activation=None):\n",
    "    \n",
    "    Weights = tf.Variable(tf.random_normal([out_size, in_size]))\n",
    "    Bias = tf.Variable(tf.zeros([out_size, 1]))\n",
    "    z = tf.matmul(Weights,inputs)+Bias\n",
    "    \n",
    "    if activation == None:\n",
    "        a = z\n",
    "    else:\n",
    "        a = activation(z)\n",
    "    \n",
    "    return a"
   ]
  },
  {
   "cell_type": "code",
   "execution_count": 8,
   "metadata": {},
   "outputs": [],
   "source": [
    "x_data = np.random.randn(4,10)\n",
    "noise = np.random.normal(0, 0.05, x_data.shape).astype(np.float32)\n",
    "y_data = np.square(x_data)+noise"
   ]
  },
  {
   "cell_type": "code",
   "execution_count": 17,
   "metadata": {},
   "outputs": [
    {
     "name": "stdout",
     "output_type": "stream",
     "text": [
      "(4, 10)\n"
     ]
    }
   ],
   "source": [
    "x = tf.placeholder(tf.float32, [4,10], name='x')\n",
    "y = tf.placeholder(tf.float32,  [None, 10], name='y')\n",
    "\n",
    "l1 = add_layer(x, 4, 10, activation=tf.nn.relu)\n",
    "l2 = add_layer(l1, 10, 4, activation=tf.nn.softmax)\n",
    "\n",
    "loss = tf.reduce_mean(tf.reduce_sum(tf.square(l2-y_data), reduction_indices=[0]))"
   ]
  },
  {
   "cell_type": "code",
   "execution_count": 10,
   "metadata": {},
   "outputs": [],
   "source": [
    "init = tf.global_variables_initializer()\n",
    "optimizer = tf.train.GradientDescentOptimizer(learning_rate = 0.5)\n",
    "train = optimizer.minimize(loss)"
   ]
  },
  {
   "cell_type": "code",
   "execution_count": 11,
   "metadata": {},
   "outputs": [
    {
     "name": "stdout",
     "output_type": "stream",
     "text": [
      "15.82314\n",
      "12.81499\n",
      "12.811424\n",
      "12.810336\n",
      "12.809816\n",
      "12.809515\n",
      "12.809321\n",
      "12.809186\n",
      "12.809084\n",
      "12.809008\n",
      "12.808948\n",
      "12.808897\n",
      "12.808859\n",
      "12.808825\n",
      "12.808797\n",
      "12.808772\n",
      "12.808751\n",
      "12.808733\n",
      "12.808718\n",
      "12.808701\n"
     ]
    }
   ],
   "source": [
    "with tf.Session() as sess:\n",
    "    sess.run(init)\n",
    "    for i in range(1000):\n",
    "        sess.run(train, feed_dict={x: x_data, y: y_data})\n",
    "        if i % 50 is 0:\n",
    "            print(sess.run(loss, feed_dict={x: x_data, y: y_data}))"
   ]
  },
  {
   "cell_type": "markdown",
   "metadata": {},
   "source": [
    "### 3. MNIST DATASET"
   ]
  },
  {
   "cell_type": "code",
   "execution_count": 3,
   "metadata": {},
   "outputs": [
    {
     "name": "stdout",
     "output_type": "stream",
     "text": [
      "Extracting MNIST_data/train-images-idx3-ubyte.gz\n",
      "Extracting MNIST_data/train-labels-idx1-ubyte.gz\n",
      "Extracting MNIST_data/t10k-images-idx3-ubyte.gz\n",
      "Extracting MNIST_data/t10k-labels-idx1-ubyte.gz\n"
     ]
    }
   ],
   "source": [
    "from tensorflow.examples.tutorials.mnist import input_data\n",
    "mnist = input_data.read_data_sets('MNIST_data', one_hot=True)"
   ]
  },
  {
   "cell_type": "code",
   "execution_count": 45,
   "metadata": {},
   "outputs": [
    {
     "name": "stdout",
     "output_type": "stream",
     "text": [
      "[152.93726, 107.56612, 82.62453, 71.28184, 65.80028, 74.89519, 70.787346, 61.97777, 60.352303, 68.14247, 56.086487, 53.849438, 56.302906, 52.936657, 52.55849, 48.54546, 58.553284, 49.337, 51.537495, 45.76406, 47.85145, 48.035656, 45.560253, 48.759327, 43.58686, 41.005817, 47.064034, 45.24936, 42.78026, 49.010956, 41.55939, 47.268555, 39.18636, 43.344486, 42.182564, 45.108932, 44.705406, 43.35429, 42.92578, 37.307487]\n"
     ]
    }
   ],
   "source": [
    "# There are 55000 pictures, with dimension 28x28\n",
    "# 1. 1 Dense layer\n",
    "Set X,Y\n",
    "X = tf.placeholder(tf.float32, [784, None], name='X')\n",
    "Y = tf.placeholder(tf.float32, [10, None], name='Y')\n",
    "a = add_layer(X, 784, 10, activation=tf.nn.softmax)\n",
    "\n",
    "cross_entropy = tf.reduce_mean(-tf.reduce_sum(Y*tf.log(a), reduction_indices=[1]))\n",
    "\n",
    "init = tf.global_variables_initializer()\n",
    "train = tf.train.GradientDescentOptimizer(0.01).minimize(cross_entropy)\n",
    "\n",
    "sess = tf.Session()\n",
    "sess.run(init)\n",
    "losses = []\n",
    "\n",
    "for i in range(2000):\n",
    "    batch_xs, batch_ys = mnist.train.next_batch(100)\n",
    "    batch_xs = (batch_xs).T\n",
    "    batch_ys = (batch_ys).T\n",
    "    sess.run(train, feed_dict={X: batch_xs, Y: batch_ys})\n",
    "    if i % 50 is 0:\n",
    "        loss = sess.run(cross_entropy, feed_dict={X: batch_xs, Y: batch_ys})\n",
    "        losses.append(loss)\n",
    "\n",
    "print(losses)\n",
    "sess.close()"
   ]
  },
  {
   "cell_type": "code",
   "execution_count": 82,
   "metadata": {},
   "outputs": [],
   "source": [
    "# 2. CNN layer\n",
    "# Define variables\n",
    "X = tf.placeholder(tf.float32, [None, 784], name='X')\n",
    "Y = tf.placeholder(tf.float32, [None, 10], name='Y')\n",
    "x_image = tf.reshape(X, [-1,28,28,1])\n",
    "keep_prob = tf.placeholder(tf.float32)\n",
    "\n",
    "with tf.variable_scope(\"input\", reuse=False):\n",
    "    w1 = tf.get_variable('w1', [5, 5, 1, 32], initializer = tf.contrib.layers.xavier_initializer(seed=1))\n",
    "    b1 = tf.get_variable('b1', [32], initializer = tf.zeros_initializer())\n",
    "    w2 = tf.get_variable('w2', [5, 5, 32, 64], initializer = tf.contrib.layers.xavier_initializer(seed=1))\n",
    "    b2 = tf.get_variable('b2', [64], initializer = tf.zeros_initializer())\n",
    "    w3 = tf.get_variable('w3', [7*7*64,1024], initializer = tf.contrib.layers.xavier_initializer(seed=1))\n",
    "    b3 = tf.get_variable('b3', [1024], initializer = tf.zeros_initializer())\n",
    "    w4 = tf.get_variable('w4', [1024, 10], initializer = tf.contrib.layers.xavier_initializer(seed=1))\n",
    "    b4 = tf.get_variable('b4', [10], initializer = tf.zeros_initializer())\n"
   ]
  },
  {
   "cell_type": "code",
   "execution_count": 101,
   "metadata": {},
   "outputs": [],
   "source": [
    "# Define layers\n",
    "z1 = tf.nn.conv2d(x_image, w1, strides=[1,1,1,1], padding='SAME')+b1\n",
    "a1 = tf.nn.relu(z1)\n",
    "p1 = tf.nn.max_pool(a1, ksize=[1,2,2,1], strides=[1,2,2,1], padding='VALID')\n",
    "\n",
    "z2  = tf.nn.conv2d(p1, w2, strides=[1,1,1,1], padding='SAME')+b2\n",
    "a2 = tf.nn.relu(z2)\n",
    "p2 = tf.nn.max_pool(a2, ksize=[1,2,2,1], strides=[1,2,2,1], padding='VALID')\n",
    "\n",
    "p2_flat = tf.reshape(p2, [-1,7*7*64])\n",
    "z3 = tf.matmul(p2_flat, w3)+b3\n",
    "a3 = tf.nn.relu(z3)\n",
    "a3_drop = tf.nn.dropout(a3, keep_prob)\n",
    "\n",
    "pred = tf.nn.softmax(tf.matmul(a3_drop, w4)+b4)\n",
    "\n",
    "cross_entropy = tf.reduce_mean(-tf.reduce_sum(Y*tf.log(pred)+(1-Y)*tf.log(1-pred),reduction_indices=[1]))"
   ]
  },
  {
   "cell_type": "code",
   "execution_count": 106,
   "metadata": {},
   "outputs": [],
   "source": [
    "# Define tensor\n",
    "train = tf.train.AdamOptimizer(1e-4).minimize(cross_entropy)\n",
    "init = tf.global_variables_initializer()\n",
    "\n",
    "% matplotlib inline\n",
    "import matplotlib.pyplot as plt"
   ]
  },
  {
   "cell_type": "code",
   "execution_count": 104,
   "metadata": {},
   "outputs": [
    {
     "name": "stdout",
     "output_type": "stream",
     "text": [
      "3.1986659\n",
      "1.3343158\n",
      "1.012357\n",
      "0.45507276\n",
      "0.39604196\n",
      "0.42146033\n",
      "0.33032155\n",
      "0.18361716\n",
      "0.47104943\n",
      "0.1786221\n"
     ]
    }
   ],
   "source": [
    "# Create session\n",
    "sess = tf.Session()\n",
    "sess.run(init)\n",
    "\n",
    "for i in range(500):\n",
    "    batch_xs, batch_ys = mnist.train.next_batch(100)\n",
    "    sess.run(train, feed_dict={X: batch_xs, Y: batch_ys, keep_prob: 0.6})\n",
    "    if i % 50 is 0:\n",
    "        loss = sess.run(cross_entropy, feed_dict={X: batch_xs, Y: batch_ys, keep_prob: 0.6})\n",
    "        print(loss)\n",
    "\n",
    "sess.close()"
   ]
  },
  {
   "cell_type": "code",
   "execution_count": 4,
   "metadata": {},
   "outputs": [],
   "source": [
    "#3. RNN layer\n",
    "#Define variables\n",
    "batch_size = 128\n",
    "n_x = 28\n",
    "T_x = 28\n",
    "n_a = 128\n",
    "n_y = 10\n",
    "\n",
    "X = tf.placeholder(tf.float32, [None, T_x, n_x], name='X')\n",
    "Y = tf.placeholder(tf.float32, [None, n_y], name='Y')\n",
    "weights = {'in': tf.Variable(tf.random_normal([n_x, n_a])), 'out': tf.Variable(tf.random_normal([n_a, n_y]))}\n",
    "biases = {'in': tf.constant(0.1, shape=[n_a, ]), 'out': tf.Variable(0.1, [n_y, ])}"
   ]
  },
  {
   "cell_type": "code",
   "execution_count": 8,
   "metadata": {},
   "outputs": [],
   "source": [
    "#Define layers\n",
    "def RNN(X, weights, biases):\n",
    "    \n",
    "    X=tf.reshape(X, [-1, n_x])\n",
    "    X_in = tf.matmul(X, weights['in'])+biases['in']\n",
    "    X_in = tf.reshape(X_in, [-1, T_x, n_x])\n",
    "    lstm_cell = tf.contrib.rnn.BasicLSTMCell(n_a, forget_bias=1.0, state_is_tuple=True, reuse=None)\n",
    "    init_state = lstm_cell.zero_state(batch_size, dtype=tf.float32)\n",
    "    \n",
    "    outputs, final_state = tf.nn.dynamic_rnn(lstm_cell, X_in, initial_state=init_state, time_major=False)\n",
    "    results = tf.matmul(final_state[1], weights['out'])+biases['out']\n",
    "    \n",
    "    return results"
   ]
  },
  {
   "cell_type": "code",
   "execution_count": 9,
   "metadata": {},
   "outputs": [],
   "source": [
    "#Define tensor\n",
    "pred = RNN(X, weights, biases)\n",
    "cost = tf.reduce_mean(tf.nn.softmax_cross_entropy_with_logits(logits=pred, labels=Y))\n",
    "train = tf.train.AdamOptimizer(1e-3).minimize(cost)\n",
    "init = tf.global_variables_initializer()\n",
    "correct_pred = tf.equal(tf.argmax(pred, 1), tf.argmax(Y, 1))\n",
    "accuracy = tf.reduce_mean(tf.cast(correct_pred, tf.float32))"
   ]
  },
  {
   "cell_type": "code",
   "execution_count": 10,
   "metadata": {},
   "outputs": [
    {
     "ename": "InvalidArgumentError",
     "evalue": "Input to reshape is a tensor with 458752 values, but the requested shape requires a multiple of 784\n\t [[Node: Reshape_3 = Reshape[T=DT_FLOAT, Tshape=DT_INT32, _device=\"/job:localhost/replica:0/task:0/cpu:0\"](add_1, Reshape_3/shape)]]\n\nCaused by op 'Reshape_3', defined at:\n  File \"/anaconda3/lib/python3.6/runpy.py\", line 193, in _run_module_as_main\n    \"__main__\", mod_spec)\n  File \"/anaconda3/lib/python3.6/runpy.py\", line 85, in _run_code\n    exec(code, run_globals)\n  File \"/anaconda3/lib/python3.6/site-packages/ipykernel_launcher.py\", line 16, in <module>\n    app.launch_new_instance()\n  File \"/anaconda3/lib/python3.6/site-packages/traitlets/config/application.py\", line 658, in launch_instance\n    app.start()\n  File \"/anaconda3/lib/python3.6/site-packages/ipykernel/kernelapp.py\", line 486, in start\n    self.io_loop.start()\n  File \"/anaconda3/lib/python3.6/site-packages/tornado/platform/asyncio.py\", line 127, in start\n    self.asyncio_loop.run_forever()\n  File \"/anaconda3/lib/python3.6/asyncio/base_events.py\", line 422, in run_forever\n    self._run_once()\n  File \"/anaconda3/lib/python3.6/asyncio/base_events.py\", line 1432, in _run_once\n    handle._run()\n  File \"/anaconda3/lib/python3.6/asyncio/events.py\", line 145, in _run\n    self._callback(*self._args)\n  File \"/anaconda3/lib/python3.6/site-packages/tornado/platform/asyncio.py\", line 117, in _handle_events\n    handler_func(fileobj, events)\n  File \"/anaconda3/lib/python3.6/site-packages/tornado/stack_context.py\", line 276, in null_wrapper\n    return fn(*args, **kwargs)\n  File \"/anaconda3/lib/python3.6/site-packages/zmq/eventloop/zmqstream.py\", line 450, in _handle_events\n    self._handle_recv()\n  File \"/anaconda3/lib/python3.6/site-packages/zmq/eventloop/zmqstream.py\", line 480, in _handle_recv\n    self._run_callback(callback, msg)\n  File \"/anaconda3/lib/python3.6/site-packages/zmq/eventloop/zmqstream.py\", line 432, in _run_callback\n    callback(*args, **kwargs)\n  File \"/anaconda3/lib/python3.6/site-packages/tornado/stack_context.py\", line 276, in null_wrapper\n    return fn(*args, **kwargs)\n  File \"/anaconda3/lib/python3.6/site-packages/ipykernel/kernelbase.py\", line 283, in dispatcher\n    return self.dispatch_shell(stream, msg)\n  File \"/anaconda3/lib/python3.6/site-packages/ipykernel/kernelbase.py\", line 233, in dispatch_shell\n    handler(stream, idents, msg)\n  File \"/anaconda3/lib/python3.6/site-packages/ipykernel/kernelbase.py\", line 399, in execute_request\n    user_expressions, allow_stdin)\n  File \"/anaconda3/lib/python3.6/site-packages/ipykernel/ipkernel.py\", line 208, in do_execute\n    res = shell.run_cell(code, store_history=store_history, silent=silent)\n  File \"/anaconda3/lib/python3.6/site-packages/ipykernel/zmqshell.py\", line 537, in run_cell\n    return super(ZMQInteractiveShell, self).run_cell(*args, **kwargs)\n  File \"/anaconda3/lib/python3.6/site-packages/IPython/core/interactiveshell.py\", line 2662, in run_cell\n    raw_cell, store_history, silent, shell_futures)\n  File \"/anaconda3/lib/python3.6/site-packages/IPython/core/interactiveshell.py\", line 2785, in _run_cell\n    interactivity=interactivity, compiler=compiler, result=result)\n  File \"/anaconda3/lib/python3.6/site-packages/IPython/core/interactiveshell.py\", line 2903, in run_ast_nodes\n    if self.run_code(code, result):\n  File \"/anaconda3/lib/python3.6/site-packages/IPython/core/interactiveshell.py\", line 2963, in run_code\n    exec(code_obj, self.user_global_ns, self.user_ns)\n  File \"<ipython-input-9-67a741d1b298>\", line 2, in <module>\n    pred = RNN(X, weights, biases)\n  File \"<ipython-input-8-ca7242e2b032>\", line 6, in RNN\n    X_in = tf.reshape(X_in, [-1, T_x, n_x])\n  File \"/anaconda3/lib/python3.6/site-packages/tensorflow/python/ops/gen_array_ops.py\", line 2510, in reshape\n    name=name)\n  File \"/anaconda3/lib/python3.6/site-packages/tensorflow/python/framework/op_def_library.py\", line 768, in apply_op\n    op_def=op_def)\n  File \"/anaconda3/lib/python3.6/site-packages/tensorflow/python/framework/ops.py\", line 2336, in create_op\n    original_op=self._default_original_op, op_def=op_def)\n  File \"/anaconda3/lib/python3.6/site-packages/tensorflow/python/framework/ops.py\", line 1228, in __init__\n    self._traceback = _extract_stack()\n\nInvalidArgumentError (see above for traceback): Input to reshape is a tensor with 458752 values, but the requested shape requires a multiple of 784\n\t [[Node: Reshape_3 = Reshape[T=DT_FLOAT, Tshape=DT_INT32, _device=\"/job:localhost/replica:0/task:0/cpu:0\"](add_1, Reshape_3/shape)]]\n",
     "output_type": "error",
     "traceback": [
      "\u001b[0;31m---------------------------------------------------------------------------\u001b[0m",
      "\u001b[0;31mInvalidArgumentError\u001b[0m                      Traceback (most recent call last)",
      "\u001b[0;32m/anaconda3/lib/python3.6/site-packages/tensorflow/python/client/session.py\u001b[0m in \u001b[0;36m_do_call\u001b[0;34m(self, fn, *args)\u001b[0m\n\u001b[1;32m   1038\u001b[0m     \u001b[0;32mtry\u001b[0m\u001b[0;34m:\u001b[0m\u001b[0;34m\u001b[0m\u001b[0m\n\u001b[0;32m-> 1039\u001b[0;31m       \u001b[0;32mreturn\u001b[0m \u001b[0mfn\u001b[0m\u001b[0;34m(\u001b[0m\u001b[0;34m*\u001b[0m\u001b[0margs\u001b[0m\u001b[0;34m)\u001b[0m\u001b[0;34m\u001b[0m\u001b[0m\n\u001b[0m\u001b[1;32m   1040\u001b[0m     \u001b[0;32mexcept\u001b[0m \u001b[0merrors\u001b[0m\u001b[0;34m.\u001b[0m\u001b[0mOpError\u001b[0m \u001b[0;32mas\u001b[0m \u001b[0me\u001b[0m\u001b[0;34m:\u001b[0m\u001b[0;34m\u001b[0m\u001b[0m\n",
      "\u001b[0;32m/anaconda3/lib/python3.6/site-packages/tensorflow/python/client/session.py\u001b[0m in \u001b[0;36m_run_fn\u001b[0;34m(session, feed_dict, fetch_list, target_list, options, run_metadata)\u001b[0m\n\u001b[1;32m   1020\u001b[0m                                  \u001b[0mfeed_dict\u001b[0m\u001b[0;34m,\u001b[0m \u001b[0mfetch_list\u001b[0m\u001b[0;34m,\u001b[0m \u001b[0mtarget_list\u001b[0m\u001b[0;34m,\u001b[0m\u001b[0;34m\u001b[0m\u001b[0m\n\u001b[0;32m-> 1021\u001b[0;31m                                  status, run_metadata)\n\u001b[0m\u001b[1;32m   1022\u001b[0m \u001b[0;34m\u001b[0m\u001b[0m\n",
      "\u001b[0;32m/anaconda3/lib/python3.6/contextlib.py\u001b[0m in \u001b[0;36m__exit__\u001b[0;34m(self, type, value, traceback)\u001b[0m\n\u001b[1;32m     87\u001b[0m             \u001b[0;32mtry\u001b[0m\u001b[0;34m:\u001b[0m\u001b[0;34m\u001b[0m\u001b[0m\n\u001b[0;32m---> 88\u001b[0;31m                 \u001b[0mnext\u001b[0m\u001b[0;34m(\u001b[0m\u001b[0mself\u001b[0m\u001b[0;34m.\u001b[0m\u001b[0mgen\u001b[0m\u001b[0;34m)\u001b[0m\u001b[0;34m\u001b[0m\u001b[0m\n\u001b[0m\u001b[1;32m     89\u001b[0m             \u001b[0;32mexcept\u001b[0m \u001b[0mStopIteration\u001b[0m\u001b[0;34m:\u001b[0m\u001b[0;34m\u001b[0m\u001b[0m\n",
      "\u001b[0;32m/anaconda3/lib/python3.6/site-packages/tensorflow/python/framework/errors_impl.py\u001b[0m in \u001b[0;36mraise_exception_on_not_ok_status\u001b[0;34m()\u001b[0m\n\u001b[1;32m    465\u001b[0m           \u001b[0mcompat\u001b[0m\u001b[0;34m.\u001b[0m\u001b[0mas_text\u001b[0m\u001b[0;34m(\u001b[0m\u001b[0mpywrap_tensorflow\u001b[0m\u001b[0;34m.\u001b[0m\u001b[0mTF_Message\u001b[0m\u001b[0;34m(\u001b[0m\u001b[0mstatus\u001b[0m\u001b[0;34m)\u001b[0m\u001b[0;34m)\u001b[0m\u001b[0;34m,\u001b[0m\u001b[0;34m\u001b[0m\u001b[0m\n\u001b[0;32m--> 466\u001b[0;31m           pywrap_tensorflow.TF_GetCode(status))\n\u001b[0m\u001b[1;32m    467\u001b[0m   \u001b[0;32mfinally\u001b[0m\u001b[0;34m:\u001b[0m\u001b[0;34m\u001b[0m\u001b[0m\n",
      "\u001b[0;31mInvalidArgumentError\u001b[0m: Input to reshape is a tensor with 458752 values, but the requested shape requires a multiple of 784\n\t [[Node: Reshape_3 = Reshape[T=DT_FLOAT, Tshape=DT_INT32, _device=\"/job:localhost/replica:0/task:0/cpu:0\"](add_1, Reshape_3/shape)]]",
      "\nDuring handling of the above exception, another exception occurred:\n",
      "\u001b[0;31mInvalidArgumentError\u001b[0m                      Traceback (most recent call last)",
      "\u001b[0;32m<ipython-input-10-a2acc28ad6c7>\u001b[0m in \u001b[0;36m<module>\u001b[0;34m()\u001b[0m\n\u001b[1;32m      8\u001b[0m         \u001b[0mbatch_xs\u001b[0m\u001b[0;34m,\u001b[0m \u001b[0mbatch_ys\u001b[0m \u001b[0;34m=\u001b[0m \u001b[0mmnist\u001b[0m\u001b[0;34m.\u001b[0m\u001b[0mtrain\u001b[0m\u001b[0;34m.\u001b[0m\u001b[0mnext_batch\u001b[0m\u001b[0;34m(\u001b[0m\u001b[0mbatch_size\u001b[0m\u001b[0;34m)\u001b[0m\u001b[0;34m\u001b[0m\u001b[0m\n\u001b[1;32m      9\u001b[0m         \u001b[0mbatch_xs\u001b[0m \u001b[0;34m=\u001b[0m \u001b[0mnp\u001b[0m\u001b[0;34m.\u001b[0m\u001b[0mreshape\u001b[0m\u001b[0;34m(\u001b[0m\u001b[0mbatch_xs\u001b[0m\u001b[0;34m,\u001b[0m\u001b[0;34m[\u001b[0m\u001b[0mbatch_size\u001b[0m\u001b[0;34m,\u001b[0m \u001b[0mT_x\u001b[0m\u001b[0;34m,\u001b[0m \u001b[0mn_x\u001b[0m\u001b[0;34m]\u001b[0m\u001b[0;34m)\u001b[0m\u001b[0;34m\u001b[0m\u001b[0m\n\u001b[0;32m---> 10\u001b[0;31m         \u001b[0msess\u001b[0m\u001b[0;34m.\u001b[0m\u001b[0mrun\u001b[0m\u001b[0;34m(\u001b[0m\u001b[0;34m[\u001b[0m\u001b[0mtrain\u001b[0m\u001b[0;34m]\u001b[0m\u001b[0;34m,\u001b[0m \u001b[0mfeed_dict\u001b[0m\u001b[0;34m=\u001b[0m\u001b[0;34m{\u001b[0m\u001b[0mX\u001b[0m\u001b[0;34m:\u001b[0m \u001b[0mbatch_xs\u001b[0m\u001b[0;34m,\u001b[0m \u001b[0mY\u001b[0m\u001b[0;34m:\u001b[0m \u001b[0mbatch_ys\u001b[0m\u001b[0;34m}\u001b[0m\u001b[0;34m)\u001b[0m\u001b[0;34m\u001b[0m\u001b[0m\n\u001b[0m\u001b[1;32m     11\u001b[0m \u001b[0;34m\u001b[0m\u001b[0m\n\u001b[1;32m     12\u001b[0m         \u001b[0;32mif\u001b[0m \u001b[0mstep\u001b[0m \u001b[0;34m%\u001b[0m \u001b[0;36m20\u001b[0m \u001b[0;34m==\u001b[0m \u001b[0;36m0\u001b[0m\u001b[0;34m:\u001b[0m\u001b[0;34m\u001b[0m\u001b[0m\n",
      "\u001b[0;32m/anaconda3/lib/python3.6/site-packages/tensorflow/python/client/session.py\u001b[0m in \u001b[0;36mrun\u001b[0;34m(self, fetches, feed_dict, options, run_metadata)\u001b[0m\n\u001b[1;32m    776\u001b[0m     \u001b[0;32mtry\u001b[0m\u001b[0;34m:\u001b[0m\u001b[0;34m\u001b[0m\u001b[0m\n\u001b[1;32m    777\u001b[0m       result = self._run(None, fetches, feed_dict, options_ptr,\n\u001b[0;32m--> 778\u001b[0;31m                          run_metadata_ptr)\n\u001b[0m\u001b[1;32m    779\u001b[0m       \u001b[0;32mif\u001b[0m \u001b[0mrun_metadata\u001b[0m\u001b[0;34m:\u001b[0m\u001b[0;34m\u001b[0m\u001b[0m\n\u001b[1;32m    780\u001b[0m         \u001b[0mproto_data\u001b[0m \u001b[0;34m=\u001b[0m \u001b[0mtf_session\u001b[0m\u001b[0;34m.\u001b[0m\u001b[0mTF_GetBuffer\u001b[0m\u001b[0;34m(\u001b[0m\u001b[0mrun_metadata_ptr\u001b[0m\u001b[0;34m)\u001b[0m\u001b[0;34m\u001b[0m\u001b[0m\n",
      "\u001b[0;32m/anaconda3/lib/python3.6/site-packages/tensorflow/python/client/session.py\u001b[0m in \u001b[0;36m_run\u001b[0;34m(self, handle, fetches, feed_dict, options, run_metadata)\u001b[0m\n\u001b[1;32m    980\u001b[0m     \u001b[0;32mif\u001b[0m \u001b[0mfinal_fetches\u001b[0m \u001b[0;32mor\u001b[0m \u001b[0mfinal_targets\u001b[0m\u001b[0;34m:\u001b[0m\u001b[0;34m\u001b[0m\u001b[0m\n\u001b[1;32m    981\u001b[0m       results = self._do_run(handle, final_targets, final_fetches,\n\u001b[0;32m--> 982\u001b[0;31m                              feed_dict_string, options, run_metadata)\n\u001b[0m\u001b[1;32m    983\u001b[0m     \u001b[0;32melse\u001b[0m\u001b[0;34m:\u001b[0m\u001b[0;34m\u001b[0m\u001b[0m\n\u001b[1;32m    984\u001b[0m       \u001b[0mresults\u001b[0m \u001b[0;34m=\u001b[0m \u001b[0;34m[\u001b[0m\u001b[0;34m]\u001b[0m\u001b[0;34m\u001b[0m\u001b[0m\n",
      "\u001b[0;32m/anaconda3/lib/python3.6/site-packages/tensorflow/python/client/session.py\u001b[0m in \u001b[0;36m_do_run\u001b[0;34m(self, handle, target_list, fetch_list, feed_dict, options, run_metadata)\u001b[0m\n\u001b[1;32m   1030\u001b[0m     \u001b[0;32mif\u001b[0m \u001b[0mhandle\u001b[0m \u001b[0;32mis\u001b[0m \u001b[0;32mNone\u001b[0m\u001b[0;34m:\u001b[0m\u001b[0;34m\u001b[0m\u001b[0m\n\u001b[1;32m   1031\u001b[0m       return self._do_call(_run_fn, self._session, feed_dict, fetch_list,\n\u001b[0;32m-> 1032\u001b[0;31m                            target_list, options, run_metadata)\n\u001b[0m\u001b[1;32m   1033\u001b[0m     \u001b[0;32melse\u001b[0m\u001b[0;34m:\u001b[0m\u001b[0;34m\u001b[0m\u001b[0m\n\u001b[1;32m   1034\u001b[0m       return self._do_call(_prun_fn, self._session, handle, feed_dict,\n",
      "\u001b[0;32m/anaconda3/lib/python3.6/site-packages/tensorflow/python/client/session.py\u001b[0m in \u001b[0;36m_do_call\u001b[0;34m(self, fn, *args)\u001b[0m\n\u001b[1;32m   1050\u001b[0m         \u001b[0;32mexcept\u001b[0m \u001b[0mKeyError\u001b[0m\u001b[0;34m:\u001b[0m\u001b[0;34m\u001b[0m\u001b[0m\n\u001b[1;32m   1051\u001b[0m           \u001b[0;32mpass\u001b[0m\u001b[0;34m\u001b[0m\u001b[0m\n\u001b[0;32m-> 1052\u001b[0;31m       \u001b[0;32mraise\u001b[0m \u001b[0mtype\u001b[0m\u001b[0;34m(\u001b[0m\u001b[0me\u001b[0m\u001b[0;34m)\u001b[0m\u001b[0;34m(\u001b[0m\u001b[0mnode_def\u001b[0m\u001b[0;34m,\u001b[0m \u001b[0mop\u001b[0m\u001b[0;34m,\u001b[0m \u001b[0mmessage\u001b[0m\u001b[0;34m)\u001b[0m\u001b[0;34m\u001b[0m\u001b[0m\n\u001b[0m\u001b[1;32m   1053\u001b[0m \u001b[0;34m\u001b[0m\u001b[0m\n\u001b[1;32m   1054\u001b[0m   \u001b[0;32mdef\u001b[0m \u001b[0m_extend_graph\u001b[0m\u001b[0;34m(\u001b[0m\u001b[0mself\u001b[0m\u001b[0;34m)\u001b[0m\u001b[0;34m:\u001b[0m\u001b[0;34m\u001b[0m\u001b[0m\n",
      "\u001b[0;31mInvalidArgumentError\u001b[0m: Input to reshape is a tensor with 458752 values, but the requested shape requires a multiple of 784\n\t [[Node: Reshape_3 = Reshape[T=DT_FLOAT, Tshape=DT_INT32, _device=\"/job:localhost/replica:0/task:0/cpu:0\"](add_1, Reshape_3/shape)]]\n\nCaused by op 'Reshape_3', defined at:\n  File \"/anaconda3/lib/python3.6/runpy.py\", line 193, in _run_module_as_main\n    \"__main__\", mod_spec)\n  File \"/anaconda3/lib/python3.6/runpy.py\", line 85, in _run_code\n    exec(code, run_globals)\n  File \"/anaconda3/lib/python3.6/site-packages/ipykernel_launcher.py\", line 16, in <module>\n    app.launch_new_instance()\n  File \"/anaconda3/lib/python3.6/site-packages/traitlets/config/application.py\", line 658, in launch_instance\n    app.start()\n  File \"/anaconda3/lib/python3.6/site-packages/ipykernel/kernelapp.py\", line 486, in start\n    self.io_loop.start()\n  File \"/anaconda3/lib/python3.6/site-packages/tornado/platform/asyncio.py\", line 127, in start\n    self.asyncio_loop.run_forever()\n  File \"/anaconda3/lib/python3.6/asyncio/base_events.py\", line 422, in run_forever\n    self._run_once()\n  File \"/anaconda3/lib/python3.6/asyncio/base_events.py\", line 1432, in _run_once\n    handle._run()\n  File \"/anaconda3/lib/python3.6/asyncio/events.py\", line 145, in _run\n    self._callback(*self._args)\n  File \"/anaconda3/lib/python3.6/site-packages/tornado/platform/asyncio.py\", line 117, in _handle_events\n    handler_func(fileobj, events)\n  File \"/anaconda3/lib/python3.6/site-packages/tornado/stack_context.py\", line 276, in null_wrapper\n    return fn(*args, **kwargs)\n  File \"/anaconda3/lib/python3.6/site-packages/zmq/eventloop/zmqstream.py\", line 450, in _handle_events\n    self._handle_recv()\n  File \"/anaconda3/lib/python3.6/site-packages/zmq/eventloop/zmqstream.py\", line 480, in _handle_recv\n    self._run_callback(callback, msg)\n  File \"/anaconda3/lib/python3.6/site-packages/zmq/eventloop/zmqstream.py\", line 432, in _run_callback\n    callback(*args, **kwargs)\n  File \"/anaconda3/lib/python3.6/site-packages/tornado/stack_context.py\", line 276, in null_wrapper\n    return fn(*args, **kwargs)\n  File \"/anaconda3/lib/python3.6/site-packages/ipykernel/kernelbase.py\", line 283, in dispatcher\n    return self.dispatch_shell(stream, msg)\n  File \"/anaconda3/lib/python3.6/site-packages/ipykernel/kernelbase.py\", line 233, in dispatch_shell\n    handler(stream, idents, msg)\n  File \"/anaconda3/lib/python3.6/site-packages/ipykernel/kernelbase.py\", line 399, in execute_request\n    user_expressions, allow_stdin)\n  File \"/anaconda3/lib/python3.6/site-packages/ipykernel/ipkernel.py\", line 208, in do_execute\n    res = shell.run_cell(code, store_history=store_history, silent=silent)\n  File \"/anaconda3/lib/python3.6/site-packages/ipykernel/zmqshell.py\", line 537, in run_cell\n    return super(ZMQInteractiveShell, self).run_cell(*args, **kwargs)\n  File \"/anaconda3/lib/python3.6/site-packages/IPython/core/interactiveshell.py\", line 2662, in run_cell\n    raw_cell, store_history, silent, shell_futures)\n  File \"/anaconda3/lib/python3.6/site-packages/IPython/core/interactiveshell.py\", line 2785, in _run_cell\n    interactivity=interactivity, compiler=compiler, result=result)\n  File \"/anaconda3/lib/python3.6/site-packages/IPython/core/interactiveshell.py\", line 2903, in run_ast_nodes\n    if self.run_code(code, result):\n  File \"/anaconda3/lib/python3.6/site-packages/IPython/core/interactiveshell.py\", line 2963, in run_code\n    exec(code_obj, self.user_global_ns, self.user_ns)\n  File \"<ipython-input-9-67a741d1b298>\", line 2, in <module>\n    pred = RNN(X, weights, biases)\n  File \"<ipython-input-8-ca7242e2b032>\", line 6, in RNN\n    X_in = tf.reshape(X_in, [-1, T_x, n_x])\n  File \"/anaconda3/lib/python3.6/site-packages/tensorflow/python/ops/gen_array_ops.py\", line 2510, in reshape\n    name=name)\n  File \"/anaconda3/lib/python3.6/site-packages/tensorflow/python/framework/op_def_library.py\", line 768, in apply_op\n    op_def=op_def)\n  File \"/anaconda3/lib/python3.6/site-packages/tensorflow/python/framework/ops.py\", line 2336, in create_op\n    original_op=self._default_original_op, op_def=op_def)\n  File \"/anaconda3/lib/python3.6/site-packages/tensorflow/python/framework/ops.py\", line 1228, in __init__\n    self._traceback = _extract_stack()\n\nInvalidArgumentError (see above for traceback): Input to reshape is a tensor with 458752 values, but the requested shape requires a multiple of 784\n\t [[Node: Reshape_3 = Reshape[T=DT_FLOAT, Tshape=DT_INT32, _device=\"/job:localhost/replica:0/task:0/cpu:0\"](add_1, Reshape_3/shape)]]\n"
     ]
    }
   ],
   "source": [
    "#Create session\n",
    "with tf.Session() as sess:\n",
    "    sess.run(init)\n",
    "    step = 0\n",
    "    \n",
    "    while step*batch_size < 10000:\n",
    "        \n",
    "        batch_xs, batch_ys = mnist.train.next_batch(batch_size)\n",
    "        batch_xs = np.reshape(batch_xs,[batch_size, T_x, n_x])\n",
    "        sess.run([train], feed_dict={X: batch_xs, Y: batch_ys})\n",
    "        \n",
    "        if step % 20 == 0:\n",
    "            print(sess.run(accuracy, feed_dict={X: batch_xs, Y: batch_ys}))\n",
    "        \n",
    "        step += 1"
   ]
  },
  {
   "cell_type": "code",
   "execution_count": null,
   "metadata": {},
   "outputs": [],
   "source": []
  }
 ],
 "metadata": {
  "kernelspec": {
   "display_name": "Python 3",
   "language": "python",
   "name": "python3"
  },
  "language_info": {
   "codemirror_mode": {
    "name": "ipython",
    "version": 3
   },
   "file_extension": ".py",
   "mimetype": "text/x-python",
   "name": "python",
   "nbconvert_exporter": "python",
   "pygments_lexer": "ipython3",
   "version": "3.6.5"
  }
 },
 "nbformat": 4,
 "nbformat_minor": 2
}

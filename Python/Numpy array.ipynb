{
 "cells": [
  {
   "cell_type": "markdown",
   "metadata": {},
   "source": [
    "# Numpy review\n",
    "## 1. Array declaration"
   ]
  },
  {
   "cell_type": "code",
   "execution_count": 2,
   "metadata": {},
   "outputs": [],
   "source": [
    "import numpy as np"
   ]
  },
  {
   "cell_type": "code",
   "execution_count": 33,
   "metadata": {},
   "outputs": [
    {
     "name": "stdout",
     "output_type": "stream",
     "text": [
      "[1 2 3]\n",
      "[[1 2 3]\n",
      " [4 5 6]]\n",
      "[0. 0. 0. 0. 0.] [[0. 0.]\n",
      " [0. 0.]]\n",
      "[[9 9]\n",
      " [9 9]]\n",
      "[[1. 1.]\n",
      " [1. 1.]]\n",
      "[]\n",
      "[0 1 2 3]\n",
      "[[0.5488135  0.71518937]\n",
      " [0.60276338 0.54488318]]\n",
      "[1 6 8 7 0 4 2 5 3 9]\n"
     ]
    },
    {
     "name": "stderr",
     "output_type": "stream",
     "text": [
      "/Users/waynewu/oldpython/anaconda/lib/python2.7/site-packages/ipykernel_launcher.py:20: DeprecationWarning: object of type <type 'float'> cannot be safely interpreted as an integer.\n"
     ]
    }
   ],
   "source": [
    "# nxd matrix means row n and column d\n",
    "# 1d array declaration\n",
    "array1 = np.array([1,2,3])\n",
    "print array1\n",
    "# 2d array declaration\n",
    "array2 = np.array([[1,2,3], [4,5,6]])\n",
    "print array2\n",
    "\n",
    "# zeros\n",
    "array3 = np.zeros((5)) # 5x1 matrix\n",
    "array4 = np.zeros((2,2))\n",
    "print array3, array4\n",
    "# full\n",
    "array5 = np.full((2,2),9)\n",
    "print array5\n",
    "# ones\n",
    "array6 = np.ones((2,2))\n",
    "print array6\n",
    "# interval\n",
    "array7 = np.linspace(1,10,0.1)\n",
    "print array7\n",
    "# sequence number\n",
    "array8 = np.arange(4)\n",
    "print array8\n",
    " \n",
    "#random number\n",
    "np.random.seed(0)\n",
    "array9 = np.random.random((2,2)) #2x2 matrix with random numbers\n",
    "array10 = np.random.permutation(10) #10x1 matrix with integers within 10\n",
    "print array9\n",
    "print array10"
   ]
  },
  {
   "cell_type": "markdown",
   "metadata": {},
   "source": [
    "# 2. Array indexing"
   ]
  },
  {
   "cell_type": "code",
   "execution_count": 26,
   "metadata": {},
   "outputs": [
    {
     "name": "stdout",
     "output_type": "stream",
     "text": [
      "The array shape is  4 4\n",
      "[[21 44 34 53]\n",
      " [42 73 57 23]\n",
      " [53 42 23 64]\n",
      " [65 23 74 23]]\n"
     ]
    }
   ],
   "source": [
    "array = np.array([[21,44,34,53],[42,73,57,23],[53,42,23,64],[65,23,74,23]])\n",
    "#call out rows and column numbers\n",
    "n,d = array.shape\n",
    "print \"The array shape is \", n,d\n",
    "print array"
   ]
  },
  {
   "cell_type": "code",
   "execution_count": 27,
   "metadata": {},
   "outputs": [
    {
     "name": "stdout",
     "output_type": "stream",
     "text": [
      "[[42 73 57 23]\n",
      " [53 42 23 64]\n",
      " [65 23 74 23]]\n",
      "[[44 34 53]\n",
      " [73 57 23]]\n",
      "[[21 44 34 53]\n",
      " [42 73 57 23]\n",
      " [53 42 23 64]\n",
      " [65 23 74 23]]\n"
     ]
    }
   ],
   "source": [
    "#1. slice indexing\n",
    "print array[1:4,:] #row 1 to 3 and all columns\n",
    "print array[:2,1:] #row 0 to 1 and column 1 to 3\n",
    "print array[:,:] #all rows and columns"
   ]
  },
  {
   "cell_type": "code",
   "execution_count": 28,
   "metadata": {},
   "outputs": [
    {
     "name": "stdout",
     "output_type": "stream",
     "text": [
      "[57 42 65 64]\n",
      "[157 142 165 164]\n"
     ]
    }
   ],
   "source": [
    "#2. array indexing\n",
    "row_indices = [1,2,3,2]\n",
    "col_indices = [2,1,0,3]\n",
    "print array[row_indices,col_indices]\n",
    "array[row_indices,col_indices]+=100\n",
    "print array[row_indices,col_indices]"
   ]
  },
  {
   "cell_type": "code",
   "execution_count": 32,
   "metadata": {},
   "outputs": [
    {
     "name": "stdout",
     "output_type": "stream",
     "text": [
      "[[False False False  True]\n",
      " [False  True  True False]\n",
      " [ True  True False  True]\n",
      " [ True False  True False]]\n",
      "[ 53  73 157  53 142 164 165  74]\n"
     ]
    }
   ],
   "source": [
    "#3. boolean indexing\n",
    "filter1 = (array>50)\n",
    "print filter1 #return boolean\n",
    "print array[filter1]"
   ]
  },
  {
   "cell_type": "markdown",
   "metadata": {},
   "source": [
    "# 3. Arithmetic function"
   ]
  },
  {
   "cell_type": "code",
   "execution_count": 55,
   "metadata": {},
   "outputs": [
    {
     "name": "stdout",
     "output_type": "stream",
     "text": [
      "18\n",
      "[[ 1  4 16]\n",
      " [16  4 25]]\n",
      "[[1.         1.41421356 2.        ]\n",
      " [2.         1.41421356 2.23606798]]\n",
      "[[1 4]\n",
      " [2 2]\n",
      " [4 5]]\n",
      "2\n",
      "[[ 4  6  9]\n",
      " [ 9  5 11]]\n",
      "[[ 4  6  9]\n",
      " [ 9  5 11]]\n",
      "[[-2 -2 -1]\n",
      " [-1 -1 -1]]\n",
      "[[ 3  8 20]\n",
      " [20  6 30]]\n",
      "[[0 0 0]\n",
      " [0 0 0]]\n",
      "[1 2]\n",
      "[[1.         0.5        0.98198051 0.5       ]\n",
      " [0.5        1.         0.32732684 1.        ]\n",
      " [0.98198051 0.32732684 1.         0.32732684]\n",
      " [0.5        1.         0.32732684 1.        ]]\n",
      "[[ True  True  True]\n",
      " [ True  True  True]]\n"
     ]
    }
   ],
   "source": [
    "a = np.array([[1,2,4],[4,2,5]])\n",
    "b = np.array([[3,4,5],[5,3,6]])\n",
    "\n",
    "#one array arithmetics\n",
    "print np.sum(a)\n",
    "print np.square(a)\n",
    "print np.sqrt(a)\n",
    "print a.T #transpose of a\n",
    "print np.sum(a==2) #print a==2's number\n",
    "# a==2 will give indexes where a==2\n",
    "\n",
    "#reshape array\n",
    "a.reshape(-1,1) #make it dx1 matrix\n",
    "\n",
    "#two array arithmetics\n",
    "print a+b\n",
    "print np.add(a,b)\n",
    "print np.subtract(a,b)\n",
    "print np.multiply(a,b)\n",
    "print np.divide(a,b)\n",
    "print np.setdiff1d(a,b) #difference between a and b, return b's difference\n",
    "print np.corrcoef(a,b) #coefficient between a and b\n",
    "print np.not_equal(a,b) #return boolean"
   ]
  },
  {
   "cell_type": "markdown",
   "metadata": {},
   "source": [
    "# 4. Load data\n",
    "## 1. load npy\n",
    "np.load('.npy')\n",
    "## 2. load txt\n",
    "np.loadtxt('.txt')\n",
    "## 3. load csv, dat\n",
    "np.genfromtxt('.csv')\n",
    "np.genfromtxt('.dat')"
   ]
  },
  {
   "cell_type": "code",
   "execution_count": null,
   "metadata": {},
   "outputs": [],
   "source": []
  }
 ],
 "metadata": {
  "kernelspec": {
   "display_name": "Python 2",
   "language": "python",
   "name": "python2"
  },
  "language_info": {
   "codemirror_mode": {
    "name": "ipython",
    "version": 2
   },
   "file_extension": ".py",
   "mimetype": "text/x-python",
   "name": "python",
   "nbconvert_exporter": "python",
   "pygments_lexer": "ipython2",
   "version": "2.7.14"
  }
 },
 "nbformat": 4,
 "nbformat_minor": 2
}
